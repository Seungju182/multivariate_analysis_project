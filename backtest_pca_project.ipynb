{
 "cells": [
  {
   "cell_type": "markdown",
   "metadata": {},
   "source": [
    "# Project Roadmap\n",
    "\n",
    "1. Using zipline, get stock returns within 2010~2015\n",
    "2. PCA for S&P 500 stocks during that period\n",
    "3. Build risk factor model using stock returns' principal components\n",
    "4. Cluster stocks then apply different bounds for those stocks (maybe use company specific risks)\n",
    "5. Backtest with trailing stop, stop-loss & take-profit model\n",
    "6. Compare performance between different groups"
   ]
  },
  {
   "cell_type": "markdown",
   "metadata": {},
   "source": [
    "# Import Libraries"
   ]
  },
  {
   "cell_type": "code",
   "execution_count": 1,
   "metadata": {},
   "outputs": [],
   "source": [
    "import os\n",
    "import time"
   ]
  },
  {
   "cell_type": "code",
   "execution_count": 2,
   "metadata": {},
   "outputs": [],
   "source": [
    "import numpy as np\n",
    "import pandas as pd\n",
    "import pandas_datareader.data as web\n",
    "import matplotlib.pyplot as plt"
   ]
  },
  {
   "cell_type": "code",
   "execution_count": 3,
   "metadata": {},
   "outputs": [],
   "source": [
    "from zipline.data import bundles\n",
    "from zipline.pipeline import Pipeline\n",
    "from zipline.data.data_portal import DataPortal\n",
    "from zipline.utils.calendar_utils import get_calendar\n",
    "from zipline.pipeline.data import USEquityPricing\n",
    "from zipline.pipeline.factors import AverageDollarVolume\n",
    "from zipline.pipeline.engine import SimplePipelineEngine\n",
    "from zipline.pipeline.loaders import USEquityPricingLoader\n",
    "#from zipline.pipeline.factors import SimpleMovingAverage\n",
    "from zipline.pipeline.domain import US_EQUITIES"
   ]
  },
  {
   "cell_type": "code",
   "execution_count": 4,
   "metadata": {},
   "outputs": [],
   "source": [
    "#import warnings\n",
    "#warnings.filterwarnings(\"ignore\")"
   ]
  },
  {
   "cell_type": "markdown",
   "metadata": {},
   "source": [
    "# Basic Settings with helper functions"
   ]
  },
  {
   "cell_type": "code",
   "execution_count": 5,
   "metadata": {},
   "outputs": [],
   "source": [
    "bundle_data = bundles.load('quandl')"
   ]
  },
  {
   "cell_type": "code",
   "execution_count": 6,
   "metadata": {},
   "outputs": [],
   "source": [
    "# Create a screen for our Pipeline\n",
    "universe = AverageDollarVolume(window_length = 120).top(300)"
   ]
  },
  {
   "cell_type": "code",
   "execution_count": 7,
   "metadata": {},
   "outputs": [],
   "source": [
    "# Create an empty Pipeline with the given screen\n",
    "pipeline = Pipeline(screen = universe, domain=US_EQUITIES)\n",
    "\n",
    "# Set the dataloader\n",
    "pricing_loader = USEquityPricingLoader(bundle_data.equity_daily_bar_reader, bundle_data.adjustment_reader, fx_reader='United States')"
   ]
  },
  {
   "cell_type": "code",
   "execution_count": 8,
   "metadata": {},
   "outputs": [],
   "source": [
    "# Define the function for the get_loader parameter\n",
    "def choose_loader(column):\n",
    "    if column not in USEquityPricing.columns:\n",
    "        raise Exception('Column not in USEquityPricing')\n",
    "    return pricing_loader\n",
    "\n",
    "# Set the trading calendar\n",
    "trading_calendar = get_calendar('NYSE')\n",
    "\n",
    "# Create a Pipeline engine\n",
    "engine = SimplePipelineEngine(get_loader = choose_loader,\n",
    "                              asset_finder = bundle_data.asset_finder)"
   ]
  },
  {
   "cell_type": "code",
   "execution_count": 9,
   "metadata": {},
   "outputs": [],
   "source": [
    "# Set the start and end dates\n",
    "start_date = pd.Timestamp('2011-01-06', tz = 'utc')\n",
    "end_date = pd.Timestamp('2013-01-07', tz = 'utc')"
   ]
  },
  {
   "cell_type": "code",
   "execution_count": 10,
   "metadata": {},
   "outputs": [],
   "source": [
    "# Run our pipeline for the given start and end dates\n",
    "pipeline_output = engine.run_pipeline(pipeline, end_date, end_date)"
   ]
  },
  {
   "cell_type": "code",
   "execution_count": 11,
   "metadata": {},
   "outputs": [],
   "source": [
    "# Get the values in index level 1 and save them to a list\n",
    "universe_tickers = pipeline_output.index.get_level_values(1).values.tolist()\n",
    "\n",
    "# Create a data portal\n",
    "data_portal = DataPortal(bundle_data.asset_finder,\n",
    "                         trading_calendar = trading_calendar,\n",
    "                         first_trading_day = bundle_data.equity_daily_bar_reader.first_trading_day,\n",
    "                         equity_daily_reader = bundle_data.equity_daily_bar_reader,\n",
    "                         adjustment_reader = bundle_data.adjustment_reader)"
   ]
  },
  {
   "cell_type": "code",
   "execution_count": 12,
   "metadata": {},
   "outputs": [],
   "source": [
    "def get_pricing(data_portal, trading_calendar, assets, start_d, end_d, field='close'):\n",
    "    \n",
    "    # Set the given start and end dates to Timestamps. The frequency string C is used to\n",
    "    # indicate that a CustomBusinessDay DateOffset is used\n",
    "    start_dt = pd.Timestamp(start_d, freq='C').tz_convert('UTC')\n",
    "    end_dt = pd.Timestamp(end_d, freq='C').tz_convert('UTC')\n",
    "    \n",
    "    \"\"\"\n",
    "    end_dt = pd.Timestamp(end_d, tz='UTC', freq='C')\n",
    "    start_dt = pd.Timestamp(start_d, tz='UTC', freq='C')\n",
    "    \"\"\"\n",
    "    \n",
    "    # Get the locations of the start and end dates\n",
    "    end_loc = trading_calendar.closes.index.get_loc(end_dt)\n",
    "    start_loc = trading_calendar.closes.index.get_loc(start_dt)\n",
    "\n",
    "    # return the historical data for the given window\n",
    "    return data_portal.get_history_window(assets=assets, end_dt=end_dt, bar_count=end_loc - start_loc,\n",
    "                                          frequency='1d',\n",
    "                                          field=field,\n",
    "                                          data_frequency='daily')\n",
    "\n",
    "\n",
    "\n",
    "def get_returns(start_date='2011-01-05', end_date='2016-01-05'):\n",
    "    \n",
    "    # Get the historical data for the given window\n",
    "    historical_data = get_pricing(data_portal, trading_calendar, universe_tickers,\n",
    "                                  start_d=start_date, end_d=end_date)\n",
    "    \n",
    "    return historical_data.pct_change()[1:].fillna(0)"
   ]
  },
  {
   "cell_type": "code",
   "execution_count": 13,
   "metadata": {},
   "outputs": [],
   "source": [
    "returns = get_returns(start_date, end_date)"
   ]
  },
  {
   "cell_type": "code",
   "execution_count": 14,
   "metadata": {},
   "outputs": [
    {
     "data": {
      "text/html": [
       "<div>\n",
       "<style scoped>\n",
       "    .dataframe tbody tr th:only-of-type {\n",
       "        vertical-align: middle;\n",
       "    }\n",
       "\n",
       "    .dataframe tbody tr th {\n",
       "        vertical-align: top;\n",
       "    }\n",
       "\n",
       "    .dataframe thead th {\n",
       "        text-align: right;\n",
       "    }\n",
       "</style>\n",
       "<table border=\"1\" class=\"dataframe\">\n",
       "  <thead>\n",
       "    <tr style=\"text-align: right;\">\n",
       "      <th></th>\n",
       "      <th>Equity(0 [A])</th>\n",
       "      <th>Equity(2 [AAL])</th>\n",
       "      <th>Equity(8 [AAPL])</th>\n",
       "      <th>Equity(13 [ABC])</th>\n",
       "      <th>Equity(20 [ABT])</th>\n",
       "      <th>Equity(27 [ACE])</th>\n",
       "      <th>Equity(37 [ACN])</th>\n",
       "      <th>Equity(45 [ADBE])</th>\n",
       "      <th>Equity(49 [ADM])</th>\n",
       "      <th>Equity(52 [ADP])</th>\n",
       "      <th>...</th>\n",
       "      <th>Equity(3099 [WM])</th>\n",
       "      <th>Equity(3101 [WMB])</th>\n",
       "      <th>Equity(3105 [WMT])</th>\n",
       "      <th>Equity(3136 [WU])</th>\n",
       "      <th>Equity(3142 [WY])</th>\n",
       "      <th>Equity(3144 [WYNN])</th>\n",
       "      <th>Equity(3145 [X])</th>\n",
       "      <th>Equity(3156 [XOM])</th>\n",
       "      <th>Equity(3172 [YHOO])</th>\n",
       "      <th>Equity(3175 [YUM])</th>\n",
       "    </tr>\n",
       "  </thead>\n",
       "  <tbody>\n",
       "    <tr>\n",
       "      <th>2011-01-10 00:00:00+00:00</th>\n",
       "      <td>0.014415</td>\n",
       "      <td>0.006140</td>\n",
       "      <td>0.018850</td>\n",
       "      <td>-0.005739</td>\n",
       "      <td>-0.008889</td>\n",
       "      <td>-0.013062</td>\n",
       "      <td>-0.008855</td>\n",
       "      <td>0.028714</td>\n",
       "      <td>0.004390</td>\n",
       "      <td>0.000419</td>\n",
       "      <td>...</td>\n",
       "      <td>-0.001649</td>\n",
       "      <td>-0.006848</td>\n",
       "      <td>-0.006463</td>\n",
       "      <td>-0.008818</td>\n",
       "      <td>0.011171</td>\n",
       "      <td>-0.000251</td>\n",
       "      <td>-0.013176</td>\n",
       "      <td>-0.006082</td>\n",
       "      <td>-0.017868</td>\n",
       "      <td>0.001406</td>\n",
       "    </tr>\n",
       "    <tr>\n",
       "      <th>2011-01-11 00:00:00+00:00</th>\n",
       "      <td>0.017057</td>\n",
       "      <td>-0.043592</td>\n",
       "      <td>-0.002380</td>\n",
       "      <td>0.009798</td>\n",
       "      <td>-0.002088</td>\n",
       "      <td>0.004620</td>\n",
       "      <td>0.013704</td>\n",
       "      <td>0.000607</td>\n",
       "      <td>0.003718</td>\n",
       "      <td>0.004581</td>\n",
       "      <td>...</td>\n",
       "      <td>-0.003033</td>\n",
       "      <td>0.025055</td>\n",
       "      <td>0.010423</td>\n",
       "      <td>0.011532</td>\n",
       "      <td>0.015884</td>\n",
       "      <td>-0.013560</td>\n",
       "      <td>0.030326</td>\n",
       "      <td>0.007447</td>\n",
       "      <td>-0.001205</td>\n",
       "      <td>-0.006456</td>\n",
       "    </tr>\n",
       "    <tr>\n",
       "      <th>2011-01-12 00:00:00+00:00</th>\n",
       "      <td>0.004422</td>\n",
       "      <td>-0.008204</td>\n",
       "      <td>0.008136</td>\n",
       "      <td>-0.005980</td>\n",
       "      <td>0.003804</td>\n",
       "      <td>0.001815</td>\n",
       "      <td>0.022974</td>\n",
       "      <td>0.017950</td>\n",
       "      <td>0.010887</td>\n",
       "      <td>0.013067</td>\n",
       "      <td>...</td>\n",
       "      <td>0.008856</td>\n",
       "      <td>0.020489</td>\n",
       "      <td>0.010315</td>\n",
       "      <td>-0.004669</td>\n",
       "      <td>0.019846</td>\n",
       "      <td>-0.002650</td>\n",
       "      <td>-0.007900</td>\n",
       "      <td>0.011760</td>\n",
       "      <td>0.004222</td>\n",
       "      <td>0.002658</td>\n",
       "    </tr>\n",
       "    <tr>\n",
       "      <th>2011-01-13 00:00:00+00:00</th>\n",
       "      <td>-0.003700</td>\n",
       "      <td>0.000919</td>\n",
       "      <td>0.003659</td>\n",
       "      <td>0.014921</td>\n",
       "      <td>-0.004453</td>\n",
       "      <td>0.000328</td>\n",
       "      <td>-0.000397</td>\n",
       "      <td>-0.005719</td>\n",
       "      <td>0.020574</td>\n",
       "      <td>-0.009631</td>\n",
       "      <td>...</td>\n",
       "      <td>0.008808</td>\n",
       "      <td>0.024355</td>\n",
       "      <td>-0.001094</td>\n",
       "      <td>-0.002073</td>\n",
       "      <td>-0.009730</td>\n",
       "      <td>-0.000510</td>\n",
       "      <td>-0.018180</td>\n",
       "      <td>0.001700</td>\n",
       "      <td>0.006006</td>\n",
       "      <td>-0.005092</td>\n",
       "    </tr>\n",
       "    <tr>\n",
       "      <th>2011-01-14 00:00:00+00:00</th>\n",
       "      <td>0.006746</td>\n",
       "      <td>-0.009183</td>\n",
       "      <td>0.008102</td>\n",
       "      <td>0.001395</td>\n",
       "      <td>-0.010088</td>\n",
       "      <td>-0.001311</td>\n",
       "      <td>0.002594</td>\n",
       "      <td>0.012283</td>\n",
       "      <td>0.008410</td>\n",
       "      <td>0.004939</td>\n",
       "      <td>...</td>\n",
       "      <td>0.009560</td>\n",
       "      <td>-0.002260</td>\n",
       "      <td>0.000365</td>\n",
       "      <td>0.007816</td>\n",
       "      <td>0.013597</td>\n",
       "      <td>0.017988</td>\n",
       "      <td>-0.016731</td>\n",
       "      <td>0.014724</td>\n",
       "      <td>0.003582</td>\n",
       "      <td>-0.021678</td>\n",
       "    </tr>\n",
       "    <tr>\n",
       "      <th>...</th>\n",
       "      <td>...</td>\n",
       "      <td>...</td>\n",
       "      <td>...</td>\n",
       "      <td>...</td>\n",
       "      <td>...</td>\n",
       "      <td>...</td>\n",
       "      <td>...</td>\n",
       "      <td>...</td>\n",
       "      <td>...</td>\n",
       "      <td>...</td>\n",
       "      <td>...</td>\n",
       "      <td>...</td>\n",
       "      <td>...</td>\n",
       "      <td>...</td>\n",
       "      <td>...</td>\n",
       "      <td>...</td>\n",
       "      <td>...</td>\n",
       "      <td>...</td>\n",
       "      <td>...</td>\n",
       "      <td>...</td>\n",
       "      <td>...</td>\n",
       "    </tr>\n",
       "    <tr>\n",
       "      <th>2012-12-31 00:00:00+00:00</th>\n",
       "      <td>0.027868</td>\n",
       "      <td>0.055512</td>\n",
       "      <td>0.044318</td>\n",
       "      <td>0.008407</td>\n",
       "      <td>0.016742</td>\n",
       "      <td>0.010510</td>\n",
       "      <td>0.012793</td>\n",
       "      <td>0.021138</td>\n",
       "      <td>0.012195</td>\n",
       "      <td>0.010652</td>\n",
       "      <td>...</td>\n",
       "      <td>0.008368</td>\n",
       "      <td>0.029884</td>\n",
       "      <td>0.009170</td>\n",
       "      <td>0.017190</td>\n",
       "      <td>0.008702</td>\n",
       "      <td>0.025714</td>\n",
       "      <td>0.035606</td>\n",
       "      <td>0.017039</td>\n",
       "      <td>0.020513</td>\n",
       "      <td>0.025958</td>\n",
       "    </tr>\n",
       "    <tr>\n",
       "      <th>2013-01-02 00:00:00+00:00</th>\n",
       "      <td>0.022960</td>\n",
       "      <td>0.035556</td>\n",
       "      <td>0.031676</td>\n",
       "      <td>0.007179</td>\n",
       "      <td>0.038898</td>\n",
       "      <td>0.024937</td>\n",
       "      <td>0.038496</td>\n",
       "      <td>0.017516</td>\n",
       "      <td>0.046732</td>\n",
       "      <td>0.025646</td>\n",
       "      <td>...</td>\n",
       "      <td>0.006817</td>\n",
       "      <td>0.039401</td>\n",
       "      <td>0.014803</td>\n",
       "      <td>0.011021</td>\n",
       "      <td>0.047807</td>\n",
       "      <td>0.049604</td>\n",
       "      <td>0.085535</td>\n",
       "      <td>0.024957</td>\n",
       "      <td>0.009045</td>\n",
       "      <td>0.011446</td>\n",
       "    </tr>\n",
       "    <tr>\n",
       "      <th>2013-01-03 00:00:00+00:00</th>\n",
       "      <td>0.003582</td>\n",
       "      <td>-0.022890</td>\n",
       "      <td>-0.012630</td>\n",
       "      <td>-0.002069</td>\n",
       "      <td>0.038066</td>\n",
       "      <td>0.005257</td>\n",
       "      <td>-0.003620</td>\n",
       "      <td>-0.015389</td>\n",
       "      <td>-0.008022</td>\n",
       "      <td>0.003939</td>\n",
       "      <td>...</td>\n",
       "      <td>0.003533</td>\n",
       "      <td>-0.007640</td>\n",
       "      <td>-0.006355</td>\n",
       "      <td>-0.016715</td>\n",
       "      <td>0.000000</td>\n",
       "      <td>0.010756</td>\n",
       "      <td>-0.018154</td>\n",
       "      <td>-0.001804</td>\n",
       "      <td>-0.014940</td>\n",
       "      <td>0.006254</td>\n",
       "    </tr>\n",
       "    <tr>\n",
       "      <th>2013-01-04 00:00:00+00:00</th>\n",
       "      <td>0.019748</td>\n",
       "      <td>0.078331</td>\n",
       "      <td>-0.027847</td>\n",
       "      <td>0.006682</td>\n",
       "      <td>-0.006011</td>\n",
       "      <td>0.001216</td>\n",
       "      <td>0.005522</td>\n",
       "      <td>0.010066</td>\n",
       "      <td>0.027426</td>\n",
       "      <td>0.008837</td>\n",
       "      <td>...</td>\n",
       "      <td>-0.000293</td>\n",
       "      <td>0.010956</td>\n",
       "      <td>0.003779</td>\n",
       "      <td>0.036216</td>\n",
       "      <td>0.008233</td>\n",
       "      <td>0.012066</td>\n",
       "      <td>0.011015</td>\n",
       "      <td>0.004630</td>\n",
       "      <td>0.004044</td>\n",
       "      <td>0.010950</td>\n",
       "    </tr>\n",
       "    <tr>\n",
       "      <th>2013-01-07 00:00:00+00:00</th>\n",
       "      <td>-0.007233</td>\n",
       "      <td>0.007468</td>\n",
       "      <td>-0.005882</td>\n",
       "      <td>0.003204</td>\n",
       "      <td>0.008164</td>\n",
       "      <td>-0.012148</td>\n",
       "      <td>-0.004336</td>\n",
       "      <td>-0.004983</td>\n",
       "      <td>-0.041410</td>\n",
       "      <td>-0.003855</td>\n",
       "      <td>...</td>\n",
       "      <td>-0.003228</td>\n",
       "      <td>-0.004394</td>\n",
       "      <td>-0.009557</td>\n",
       "      <td>-0.024964</td>\n",
       "      <td>0.003062</td>\n",
       "      <td>0.003395</td>\n",
       "      <td>0.000389</td>\n",
       "      <td>-0.011578</td>\n",
       "      <td>-0.023162</td>\n",
       "      <td>-0.006294</td>\n",
       "    </tr>\n",
       "  </tbody>\n",
       "</table>\n",
       "<p>501 rows × 300 columns</p>\n",
       "</div>"
      ],
      "text/plain": [
       "                           Equity(0 [A])  Equity(2 [AAL])  Equity(8 [AAPL])  \\\n",
       "2011-01-10 00:00:00+00:00       0.014415         0.006140          0.018850   \n",
       "2011-01-11 00:00:00+00:00       0.017057        -0.043592         -0.002380   \n",
       "2011-01-12 00:00:00+00:00       0.004422        -0.008204          0.008136   \n",
       "2011-01-13 00:00:00+00:00      -0.003700         0.000919          0.003659   \n",
       "2011-01-14 00:00:00+00:00       0.006746        -0.009183          0.008102   \n",
       "...                                  ...              ...               ...   \n",
       "2012-12-31 00:00:00+00:00       0.027868         0.055512          0.044318   \n",
       "2013-01-02 00:00:00+00:00       0.022960         0.035556          0.031676   \n",
       "2013-01-03 00:00:00+00:00       0.003582        -0.022890         -0.012630   \n",
       "2013-01-04 00:00:00+00:00       0.019748         0.078331         -0.027847   \n",
       "2013-01-07 00:00:00+00:00      -0.007233         0.007468         -0.005882   \n",
       "\n",
       "                           Equity(13 [ABC])  Equity(20 [ABT])  \\\n",
       "2011-01-10 00:00:00+00:00         -0.005739         -0.008889   \n",
       "2011-01-11 00:00:00+00:00          0.009798         -0.002088   \n",
       "2011-01-12 00:00:00+00:00         -0.005980          0.003804   \n",
       "2011-01-13 00:00:00+00:00          0.014921         -0.004453   \n",
       "2011-01-14 00:00:00+00:00          0.001395         -0.010088   \n",
       "...                                     ...               ...   \n",
       "2012-12-31 00:00:00+00:00          0.008407          0.016742   \n",
       "2013-01-02 00:00:00+00:00          0.007179          0.038898   \n",
       "2013-01-03 00:00:00+00:00         -0.002069          0.038066   \n",
       "2013-01-04 00:00:00+00:00          0.006682         -0.006011   \n",
       "2013-01-07 00:00:00+00:00          0.003204          0.008164   \n",
       "\n",
       "                           Equity(27 [ACE])  Equity(37 [ACN])  \\\n",
       "2011-01-10 00:00:00+00:00         -0.013062         -0.008855   \n",
       "2011-01-11 00:00:00+00:00          0.004620          0.013704   \n",
       "2011-01-12 00:00:00+00:00          0.001815          0.022974   \n",
       "2011-01-13 00:00:00+00:00          0.000328         -0.000397   \n",
       "2011-01-14 00:00:00+00:00         -0.001311          0.002594   \n",
       "...                                     ...               ...   \n",
       "2012-12-31 00:00:00+00:00          0.010510          0.012793   \n",
       "2013-01-02 00:00:00+00:00          0.024937          0.038496   \n",
       "2013-01-03 00:00:00+00:00          0.005257         -0.003620   \n",
       "2013-01-04 00:00:00+00:00          0.001216          0.005522   \n",
       "2013-01-07 00:00:00+00:00         -0.012148         -0.004336   \n",
       "\n",
       "                           Equity(45 [ADBE])  Equity(49 [ADM])  \\\n",
       "2011-01-10 00:00:00+00:00           0.028714          0.004390   \n",
       "2011-01-11 00:00:00+00:00           0.000607          0.003718   \n",
       "2011-01-12 00:00:00+00:00           0.017950          0.010887   \n",
       "2011-01-13 00:00:00+00:00          -0.005719          0.020574   \n",
       "2011-01-14 00:00:00+00:00           0.012283          0.008410   \n",
       "...                                      ...               ...   \n",
       "2012-12-31 00:00:00+00:00           0.021138          0.012195   \n",
       "2013-01-02 00:00:00+00:00           0.017516          0.046732   \n",
       "2013-01-03 00:00:00+00:00          -0.015389         -0.008022   \n",
       "2013-01-04 00:00:00+00:00           0.010066          0.027426   \n",
       "2013-01-07 00:00:00+00:00          -0.004983         -0.041410   \n",
       "\n",
       "                           Equity(52 [ADP])  ...  Equity(3099 [WM])  \\\n",
       "2011-01-10 00:00:00+00:00          0.000419  ...          -0.001649   \n",
       "2011-01-11 00:00:00+00:00          0.004581  ...          -0.003033   \n",
       "2011-01-12 00:00:00+00:00          0.013067  ...           0.008856   \n",
       "2011-01-13 00:00:00+00:00         -0.009631  ...           0.008808   \n",
       "2011-01-14 00:00:00+00:00          0.004939  ...           0.009560   \n",
       "...                                     ...  ...                ...   \n",
       "2012-12-31 00:00:00+00:00          0.010652  ...           0.008368   \n",
       "2013-01-02 00:00:00+00:00          0.025646  ...           0.006817   \n",
       "2013-01-03 00:00:00+00:00          0.003939  ...           0.003533   \n",
       "2013-01-04 00:00:00+00:00          0.008837  ...          -0.000293   \n",
       "2013-01-07 00:00:00+00:00         -0.003855  ...          -0.003228   \n",
       "\n",
       "                           Equity(3101 [WMB])  Equity(3105 [WMT])  \\\n",
       "2011-01-10 00:00:00+00:00           -0.006848           -0.006463   \n",
       "2011-01-11 00:00:00+00:00            0.025055            0.010423   \n",
       "2011-01-12 00:00:00+00:00            0.020489            0.010315   \n",
       "2011-01-13 00:00:00+00:00            0.024355           -0.001094   \n",
       "2011-01-14 00:00:00+00:00           -0.002260            0.000365   \n",
       "...                                       ...                 ...   \n",
       "2012-12-31 00:00:00+00:00            0.029884            0.009170   \n",
       "2013-01-02 00:00:00+00:00            0.039401            0.014803   \n",
       "2013-01-03 00:00:00+00:00           -0.007640           -0.006355   \n",
       "2013-01-04 00:00:00+00:00            0.010956            0.003779   \n",
       "2013-01-07 00:00:00+00:00           -0.004394           -0.009557   \n",
       "\n",
       "                           Equity(3136 [WU])  Equity(3142 [WY])  \\\n",
       "2011-01-10 00:00:00+00:00          -0.008818           0.011171   \n",
       "2011-01-11 00:00:00+00:00           0.011532           0.015884   \n",
       "2011-01-12 00:00:00+00:00          -0.004669           0.019846   \n",
       "2011-01-13 00:00:00+00:00          -0.002073          -0.009730   \n",
       "2011-01-14 00:00:00+00:00           0.007816           0.013597   \n",
       "...                                      ...                ...   \n",
       "2012-12-31 00:00:00+00:00           0.017190           0.008702   \n",
       "2013-01-02 00:00:00+00:00           0.011021           0.047807   \n",
       "2013-01-03 00:00:00+00:00          -0.016715           0.000000   \n",
       "2013-01-04 00:00:00+00:00           0.036216           0.008233   \n",
       "2013-01-07 00:00:00+00:00          -0.024964           0.003062   \n",
       "\n",
       "                           Equity(3144 [WYNN])  Equity(3145 [X])  \\\n",
       "2011-01-10 00:00:00+00:00            -0.000251         -0.013176   \n",
       "2011-01-11 00:00:00+00:00            -0.013560          0.030326   \n",
       "2011-01-12 00:00:00+00:00            -0.002650         -0.007900   \n",
       "2011-01-13 00:00:00+00:00            -0.000510         -0.018180   \n",
       "2011-01-14 00:00:00+00:00             0.017988         -0.016731   \n",
       "...                                        ...               ...   \n",
       "2012-12-31 00:00:00+00:00             0.025714          0.035606   \n",
       "2013-01-02 00:00:00+00:00             0.049604          0.085535   \n",
       "2013-01-03 00:00:00+00:00             0.010756         -0.018154   \n",
       "2013-01-04 00:00:00+00:00             0.012066          0.011015   \n",
       "2013-01-07 00:00:00+00:00             0.003395          0.000389   \n",
       "\n",
       "                           Equity(3156 [XOM])  Equity(3172 [YHOO])  \\\n",
       "2011-01-10 00:00:00+00:00           -0.006082            -0.017868   \n",
       "2011-01-11 00:00:00+00:00            0.007447            -0.001205   \n",
       "2011-01-12 00:00:00+00:00            0.011760             0.004222   \n",
       "2011-01-13 00:00:00+00:00            0.001700             0.006006   \n",
       "2011-01-14 00:00:00+00:00            0.014724             0.003582   \n",
       "...                                       ...                  ...   \n",
       "2012-12-31 00:00:00+00:00            0.017039             0.020513   \n",
       "2013-01-02 00:00:00+00:00            0.024957             0.009045   \n",
       "2013-01-03 00:00:00+00:00           -0.001804            -0.014940   \n",
       "2013-01-04 00:00:00+00:00            0.004630             0.004044   \n",
       "2013-01-07 00:00:00+00:00           -0.011578            -0.023162   \n",
       "\n",
       "                           Equity(3175 [YUM])  \n",
       "2011-01-10 00:00:00+00:00            0.001406  \n",
       "2011-01-11 00:00:00+00:00           -0.006456  \n",
       "2011-01-12 00:00:00+00:00            0.002658  \n",
       "2011-01-13 00:00:00+00:00           -0.005092  \n",
       "2011-01-14 00:00:00+00:00           -0.021678  \n",
       "...                                       ...  \n",
       "2012-12-31 00:00:00+00:00            0.025958  \n",
       "2013-01-02 00:00:00+00:00            0.011446  \n",
       "2013-01-03 00:00:00+00:00            0.006254  \n",
       "2013-01-04 00:00:00+00:00            0.010950  \n",
       "2013-01-07 00:00:00+00:00           -0.006294  \n",
       "\n",
       "[501 rows x 300 columns]"
      ]
     },
     "execution_count": 14,
     "metadata": {},
     "output_type": "execute_result"
    }
   ],
   "source": [
    "returns"
   ]
  },
  {
   "cell_type": "markdown",
   "metadata": {},
   "source": [
    "# Risk Factor Model"
   ]
  },
  {
   "cell_type": "markdown",
   "metadata": {},
   "source": [
    "## Fit PCA"
   ]
  },
  {
   "cell_type": "code",
   "execution_count": 15,
   "metadata": {},
   "outputs": [],
   "source": [
    "from sklearn.decomposition import PCA"
   ]
  },
  {
   "cell_type": "code",
   "execution_count": 16,
   "metadata": {},
   "outputs": [],
   "source": [
    "def fit_pca(returns, n_components, svd_solver):\n",
    "    \"\"\"\n",
    "    Fit PCA model with returns.\n",
    "\n",
    "    Parameters\n",
    "    ----------\n",
    "    returns : DataFrame\n",
    "        Returns for each ticker and date\n",
    "    n_components : int or float\n",
    "        Number of factors for PCA or probability explained by principal components\n",
    "    svd_solver: str\n",
    "        The solver to use for the PCA model\n",
    "\n",
    "    Returns\n",
    "    -------\n",
    "    pca : PCA\n",
    "        Model fit to returns\n",
    "    \"\"\"\n",
    "    pca = PCA(n_components=n_components, svd_solver=svd_solver)\n",
    "    pca.fit(returns)\n",
    "    \n",
    "    return pca"
   ]
  },
  {
   "cell_type": "code",
   "execution_count": 17,
   "metadata": {},
   "outputs": [],
   "source": [
    "pca = fit_pca(returns, 0.9, 'full')"
   ]
  },
  {
   "cell_type": "markdown",
   "metadata": {},
   "source": [
    "### View Data"
   ]
  },
  {
   "cell_type": "code",
   "execution_count": 18,
   "metadata": {},
   "outputs": [
    {
     "data": {
      "text/plain": [
       "array([[-0.08330925, -0.06869394, -0.04124278, ..., -0.04336103,\n",
       "        -0.04569926, -0.03903397],\n",
       "       [-0.00838058, -0.17747155,  0.02791607, ..., -0.01682482,\n",
       "         0.00422776, -0.01744134],\n",
       "       [ 0.01307611,  0.1360883 ,  0.05984691, ..., -0.04066171,\n",
       "         0.02310387,  0.06313658],\n",
       "       ...,\n",
       "       [-0.05439067, -0.0936153 ,  0.01986447, ..., -0.02943649,\n",
       "        -0.05517094, -0.06339785],\n",
       "       [-0.05358196,  0.08594167,  0.06726434, ..., -0.00740358,\n",
       "        -0.06519302, -0.01773719],\n",
       "       [ 0.0369583 ,  0.03054647, -0.08526682, ...,  0.00622322,\n",
       "         0.03751485,  0.04045898]])"
      ]
     },
     "execution_count": 18,
     "metadata": {},
     "output_type": "execute_result"
    }
   ],
   "source": [
    "pca.components_"
   ]
  },
  {
   "cell_type": "code",
   "execution_count": null,
   "metadata": {},
   "outputs": [],
   "source": [
    "n_components = pca.components_.shape[0]"
   ]
  },
  {
   "cell_type": "code",
   "execution_count": 20,
   "metadata": {},
   "outputs": [
    {
     "data": {
      "text/plain": [
       "<BarContainer object of 94 artists>"
      ]
     },
     "execution_count": 20,
     "metadata": {},
     "output_type": "execute_result"
    },
    {
     "data": {
      "image/png": "[encoded data removed]",
      "text/plain": [
       "<Figure size 432x288 with 1 Axes>"
      ]
     },
     "metadata": {
      "needs_background": "light"
     },
     "output_type": "display_data"
    }
   ],
   "source": [
    "plt.bar(np.arange(n_components), pca.explained_variance_ratio_)"
   ]
  },
  {
   "cell_type": "markdown",
   "metadata": {},
   "source": [
    "## Factor Betas"
   ]
  },
  {
   "cell_type": "code",
   "execution_count": 21,
   "metadata": {},
   "outputs": [],
   "source": [
    "def factor_betas(pca, factor_beta_indices, factor_beta_columns):\n",
    "    \"\"\"\n",
    "    Get the factor betas from the PCA model.\n",
    "\n",
    "    Parameters\n",
    "    ----------\n",
    "    pca : PCA\n",
    "        Model fit to returns\n",
    "    factor_beta_indices : 1 dimensional Ndarray\n",
    "        Factor beta indices\n",
    "    factor_beta_columns : 1 dimensional Ndarray\n",
    "        Factor beta columns\n",
    "\n",
    "    Returns\n",
    "    -------\n",
    "    factor_betas : DataFrame\n",
    "        Factor betas\n",
    "    \"\"\"\n",
    "    assert len(factor_beta_indices.shape) == 1\n",
    "    assert len(factor_beta_columns.shape) == 1\n",
    "    \n",
    "    factor_betas = pd.DataFrame(pca.components_.T, index=factor_beta_indices, columns=factor_beta_columns)\n",
    "    \n",
    "    return factor_betas"
   ]
  },
  {
   "cell_type": "code",
   "execution_count": 22,
   "metadata": {},
   "outputs": [],
   "source": [
    "risk_model = {}\n",
    "risk_model['factor_betas'] = factor_betas(pca, returns.columns.values, np.arange(n_components))"
   ]
  },
  {
   "cell_type": "code",
   "execution_count": 23,
   "metadata": {},
   "outputs": [
    {
     "data": {
      "text/html": [
       "<div>\n",
       "<style scoped>\n",
       "    .dataframe tbody tr th:only-of-type {\n",
       "        vertical-align: middle;\n",
       "    }\n",
       "\n",
       "    .dataframe tbody tr th {\n",
       "        vertical-align: top;\n",
       "    }\n",
       "\n",
       "    .dataframe thead th {\n",
       "        text-align: right;\n",
       "    }\n",
       "</style>\n",
       "<table border=\"1\" class=\"dataframe\">\n",
       "  <thead>\n",
       "    <tr style=\"text-align: right;\">\n",
       "      <th></th>\n",
       "      <th>0</th>\n",
       "      <th>1</th>\n",
       "      <th>2</th>\n",
       "      <th>3</th>\n",
       "      <th>4</th>\n",
       "      <th>5</th>\n",
       "      <th>6</th>\n",
       "      <th>7</th>\n",
       "      <th>8</th>\n",
       "      <th>9</th>\n",
       "      <th>...</th>\n",
       "      <th>84</th>\n",
       "      <th>85</th>\n",
       "      <th>86</th>\n",
       "      <th>87</th>\n",
       "      <th>88</th>\n",
       "      <th>89</th>\n",
       "      <th>90</th>\n",
       "      <th>91</th>\n",
       "      <th>92</th>\n",
       "      <th>93</th>\n",
       "    </tr>\n",
       "  </thead>\n",
       "  <tbody>\n",
       "    <tr>\n",
       "      <th>Equity(0 [A])</th>\n",
       "      <td>-0.083309</td>\n",
       "      <td>-0.008381</td>\n",
       "      <td>0.013076</td>\n",
       "      <td>-0.002633</td>\n",
       "      <td>0.026477</td>\n",
       "      <td>0.003597</td>\n",
       "      <td>-0.012678</td>\n",
       "      <td>-0.035716</td>\n",
       "      <td>0.002795</td>\n",
       "      <td>0.005720</td>\n",
       "      <td>...</td>\n",
       "      <td>-0.044466</td>\n",
       "      <td>0.089199</td>\n",
       "      <td>0.024311</td>\n",
       "      <td>0.142815</td>\n",
       "      <td>0.069553</td>\n",
       "      <td>-0.106583</td>\n",
       "      <td>-0.044436</td>\n",
       "      <td>-0.054391</td>\n",
       "      <td>-0.053582</td>\n",
       "      <td>0.036958</td>\n",
       "    </tr>\n",
       "    <tr>\n",
       "      <th>Equity(2 [AAL])</th>\n",
       "      <td>-0.068694</td>\n",
       "      <td>-0.177472</td>\n",
       "      <td>0.136088</td>\n",
       "      <td>0.277813</td>\n",
       "      <td>0.072751</td>\n",
       "      <td>-0.284165</td>\n",
       "      <td>0.160130</td>\n",
       "      <td>0.049194</td>\n",
       "      <td>0.287037</td>\n",
       "      <td>0.046559</td>\n",
       "      <td>...</td>\n",
       "      <td>-0.024704</td>\n",
       "      <td>-0.024877</td>\n",
       "      <td>-0.000367</td>\n",
       "      <td>0.013660</td>\n",
       "      <td>0.015205</td>\n",
       "      <td>0.037239</td>\n",
       "      <td>0.102870</td>\n",
       "      <td>-0.093615</td>\n",
       "      <td>0.085942</td>\n",
       "      <td>0.030546</td>\n",
       "    </tr>\n",
       "    <tr>\n",
       "      <th>Equity(8 [AAPL])</th>\n",
       "      <td>-0.041243</td>\n",
       "      <td>0.027916</td>\n",
       "      <td>0.059847</td>\n",
       "      <td>-0.032275</td>\n",
       "      <td>0.003960</td>\n",
       "      <td>-0.013115</td>\n",
       "      <td>0.031659</td>\n",
       "      <td>-0.000336</td>\n",
       "      <td>0.003114</td>\n",
       "      <td>-0.061251</td>\n",
       "      <td>...</td>\n",
       "      <td>-0.035768</td>\n",
       "      <td>0.105882</td>\n",
       "      <td>-0.106181</td>\n",
       "      <td>-0.128505</td>\n",
       "      <td>-0.040861</td>\n",
       "      <td>-0.119150</td>\n",
       "      <td>0.046547</td>\n",
       "      <td>0.019864</td>\n",
       "      <td>0.067264</td>\n",
       "      <td>-0.085267</td>\n",
       "    </tr>\n",
       "    <tr>\n",
       "      <th>Equity(13 [ABC])</th>\n",
       "      <td>-0.034558</td>\n",
       "      <td>-0.015387</td>\n",
       "      <td>0.011445</td>\n",
       "      <td>-0.029748</td>\n",
       "      <td>-0.004631</td>\n",
       "      <td>-0.010814</td>\n",
       "      <td>0.015163</td>\n",
       "      <td>-0.025669</td>\n",
       "      <td>-0.010966</td>\n",
       "      <td>0.021284</td>\n",
       "      <td>...</td>\n",
       "      <td>-0.027982</td>\n",
       "      <td>-0.039385</td>\n",
       "      <td>-0.047841</td>\n",
       "      <td>-0.061294</td>\n",
       "      <td>0.049857</td>\n",
       "      <td>-0.101992</td>\n",
       "      <td>0.051355</td>\n",
       "      <td>-0.033508</td>\n",
       "      <td>-0.030381</td>\n",
       "      <td>0.020689</td>\n",
       "    </tr>\n",
       "    <tr>\n",
       "      <th>Equity(20 [ABT])</th>\n",
       "      <td>-0.024255</td>\n",
       "      <td>-0.045449</td>\n",
       "      <td>0.007961</td>\n",
       "      <td>-0.017569</td>\n",
       "      <td>-0.020429</td>\n",
       "      <td>0.013873</td>\n",
       "      <td>-0.003232</td>\n",
       "      <td>-0.032699</td>\n",
       "      <td>-0.013597</td>\n",
       "      <td>0.009782</td>\n",
       "      <td>...</td>\n",
       "      <td>-0.026308</td>\n",
       "      <td>0.009377</td>\n",
       "      <td>-0.017540</td>\n",
       "      <td>-0.045725</td>\n",
       "      <td>-0.020814</td>\n",
       "      <td>0.004902</td>\n",
       "      <td>0.024529</td>\n",
       "      <td>0.026691</td>\n",
       "      <td>0.010813</td>\n",
       "      <td>0.028894</td>\n",
       "    </tr>\n",
       "  </tbody>\n",
       "</table>\n",
       "<p>5 rows × 94 columns</p>\n",
       "</div>"
      ],
      "text/plain": [
       "                        0         1         2         3         4         5   \\\n",
       "Equity(0 [A])    -0.083309 -0.008381  0.013076 -0.002633  0.026477  0.003597   \n",
       "Equity(2 [AAL])  -0.068694 -0.177472  0.136088  0.277813  0.072751 -0.284165   \n",
       "Equity(8 [AAPL]) -0.041243  0.027916  0.059847 -0.032275  0.003960 -0.013115   \n",
       "Equity(13 [ABC]) -0.034558 -0.015387  0.011445 -0.029748 -0.004631 -0.010814   \n",
       "Equity(20 [ABT]) -0.024255 -0.045449  0.007961 -0.017569 -0.020429  0.013873   \n",
       "\n",
       "                        6         7         8         9   ...        84  \\\n",
       "Equity(0 [A])    -0.012678 -0.035716  0.002795  0.005720  ... -0.044466   \n",
       "Equity(2 [AAL])   0.160130  0.049194  0.287037  0.046559  ... -0.024704   \n",
       "Equity(8 [AAPL])  0.031659 -0.000336  0.003114 -0.061251  ... -0.035768   \n",
       "Equity(13 [ABC])  0.015163 -0.025669 -0.010966  0.021284  ... -0.027982   \n",
       "Equity(20 [ABT]) -0.003232 -0.032699 -0.013597  0.009782  ... -0.026308   \n",
       "\n",
       "                        85        86        87        88        89        90  \\\n",
       "Equity(0 [A])     0.089199  0.024311  0.142815  0.069553 -0.106583 -0.044436   \n",
       "Equity(2 [AAL])  -0.024877 -0.000367  0.013660  0.015205  0.037239  0.102870   \n",
       "Equity(8 [AAPL])  0.105882 -0.106181 -0.128505 -0.040861 -0.119150  0.046547   \n",
       "Equity(13 [ABC]) -0.039385 -0.047841 -0.061294  0.049857 -0.101992  0.051355   \n",
       "Equity(20 [ABT])  0.009377 -0.017540 -0.045725 -0.020814  0.004902  0.024529   \n",
       "\n",
       "                        91        92        93  \n",
       "Equity(0 [A])    -0.054391 -0.053582  0.036958  \n",
       "Equity(2 [AAL])  -0.093615  0.085942  0.030546  \n",
       "Equity(8 [AAPL])  0.019864  0.067264 -0.085267  \n",
       "Equity(13 [ABC]) -0.033508 -0.030381  0.020689  \n",
       "Equity(20 [ABT])  0.026691  0.010813  0.028894  \n",
       "\n",
       "[5 rows x 94 columns]"
      ]
     },
     "execution_count": 23,
     "metadata": {},
     "output_type": "execute_result"
    }
   ],
   "source": [
    "risk_model['factor_betas'].head()"
   ]
  },
  {
   "cell_type": "markdown",
   "metadata": {},
   "source": [
    "## Factor Returns"
   ]
  },
  {
   "cell_type": "code",
   "execution_count": 24,
   "metadata": {},
   "outputs": [],
   "source": [
    "def factor_returns(pca, returns, factor_return_indices, factor_return_columns):\n",
    "    \"\"\"\n",
    "    Get the factor returns from the PCA model.\n",
    "\n",
    "    Parameters\n",
    "    ----------\n",
    "    pca : PCA\n",
    "        Model fit to returns\n",
    "    returns : DataFrame\n",
    "        Returns for each ticker and date\n",
    "    factor_return_indices : 1 dimensional Ndarray\n",
    "        Factor return indices\n",
    "    factor_return_columns : 1 dimensional Ndarray\n",
    "        Factor return columns\n",
    "\n",
    "    Returns\n",
    "    -------\n",
    "    factor_returns : DataFrame\n",
    "        Factor returns\n",
    "    \"\"\"\n",
    "    assert len(factor_return_indices.shape) == 1\n",
    "    assert len(factor_return_columns.shape) == 1\n",
    "    \n",
    "    factor_returns = pd.DataFrame(pca.transform(returns), index=factor_return_indices, columns=factor_return_columns)\n",
    "    \n",
    "    return factor_returns"
   ]
  },
  {
   "cell_type": "code",
   "execution_count": 25,
   "metadata": {},
   "outputs": [],
   "source": [
    "risk_model['factor_returns'] = factor_returns(pca, returns, returns.index, np.arange(n_components))"
   ]
  },
  {
   "cell_type": "code",
   "execution_count": 26,
   "metadata": {},
   "outputs": [
    {
     "data": {
      "text/plain": [
       "<AxesSubplot:>"
      ]
     },
     "execution_count": 26,
     "metadata": {},
     "output_type": "execute_result"
    },
    {
     "data": {
      "image/png": "[encoded data removed]",
      "text/plain": [
       "<Figure size 432x288 with 1 Axes>"
      ]
     },
     "metadata": {
      "needs_background": "light"
     },
     "output_type": "display_data"
    }
   ],
   "source": [
    "risk_model['factor_returns'].cumsum().plot(legend=None)"
   ]
  },
  {
   "cell_type": "code",
   "execution_count": 412,
   "metadata": {},
   "outputs": [
    {
     "data": {
      "text/html": [
       "<div>\n",
       "<style scoped>\n",
       "    .dataframe tbody tr th:only-of-type {\n",
       "        vertical-align: middle;\n",
       "    }\n",
       "\n",
       "    .dataframe tbody tr th {\n",
       "        vertical-align: top;\n",
       "    }\n",
       "\n",
       "    .dataframe thead th {\n",
       "        text-align: right;\n",
       "    }\n",
       "</style>\n",
       "<table border=\"1\" class=\"dataframe\">\n",
       "  <thead>\n",
       "    <tr style=\"text-align: right;\">\n",
       "      <th></th>\n",
       "      <th>0</th>\n",
       "      <th>1</th>\n",
       "      <th>2</th>\n",
       "      <th>3</th>\n",
       "      <th>4</th>\n",
       "      <th>5</th>\n",
       "      <th>6</th>\n",
       "      <th>7</th>\n",
       "      <th>8</th>\n",
       "      <th>9</th>\n",
       "      <th>...</th>\n",
       "      <th>84</th>\n",
       "      <th>85</th>\n",
       "      <th>86</th>\n",
       "      <th>87</th>\n",
       "      <th>88</th>\n",
       "      <th>89</th>\n",
       "      <th>90</th>\n",
       "      <th>91</th>\n",
       "      <th>92</th>\n",
       "      <th>93</th>\n",
       "    </tr>\n",
       "  </thead>\n",
       "  <tbody>\n",
       "    <tr>\n",
       "      <th>2011-01-10 00:00:00+00:00</th>\n",
       "      <td>0.006458</td>\n",
       "      <td>0.058455</td>\n",
       "      <td>0.033410</td>\n",
       "      <td>-0.022177</td>\n",
       "      <td>0.031756</td>\n",
       "      <td>-0.019893</td>\n",
       "      <td>-0.009014</td>\n",
       "      <td>-0.058141</td>\n",
       "      <td>-0.026837</td>\n",
       "      <td>0.025801</td>\n",
       "      <td>...</td>\n",
       "      <td>0.000658</td>\n",
       "      <td>0.010119</td>\n",
       "      <td>0.009517</td>\n",
       "      <td>-0.009656</td>\n",
       "      <td>0.008585</td>\n",
       "      <td>-0.011795</td>\n",
       "      <td>0.000195</td>\n",
       "      <td>-0.022678</td>\n",
       "      <td>0.015686</td>\n",
       "      <td>0.017343</td>\n",
       "    </tr>\n",
       "    <tr>\n",
       "      <th>2011-01-11 00:00:00+00:00</th>\n",
       "      <td>-0.085693</td>\n",
       "      <td>0.025431</td>\n",
       "      <td>-0.109053</td>\n",
       "      <td>-0.020033</td>\n",
       "      <td>0.014663</td>\n",
       "      <td>0.012230</td>\n",
       "      <td>0.003799</td>\n",
       "      <td>0.007578</td>\n",
       "      <td>0.002034</td>\n",
       "      <td>-0.067596</td>\n",
       "      <td>...</td>\n",
       "      <td>0.006973</td>\n",
       "      <td>-0.010899</td>\n",
       "      <td>0.010608</td>\n",
       "      <td>0.001657</td>\n",
       "      <td>-0.007289</td>\n",
       "      <td>0.011984</td>\n",
       "      <td>-0.002141</td>\n",
       "      <td>-0.018787</td>\n",
       "      <td>-0.001428</td>\n",
       "      <td>-0.002786</td>\n",
       "    </tr>\n",
       "    <tr>\n",
       "      <th>2011-01-12 00:00:00+00:00</th>\n",
       "      <td>-0.133752</td>\n",
       "      <td>0.004290</td>\n",
       "      <td>-0.025783</td>\n",
       "      <td>0.020204</td>\n",
       "      <td>0.051511</td>\n",
       "      <td>0.035311</td>\n",
       "      <td>-0.016596</td>\n",
       "      <td>-0.007813</td>\n",
       "      <td>-0.035234</td>\n",
       "      <td>-0.023893</td>\n",
       "      <td>...</td>\n",
       "      <td>0.016330</td>\n",
       "      <td>0.022749</td>\n",
       "      <td>-0.019499</td>\n",
       "      <td>-0.003652</td>\n",
       "      <td>-0.004940</td>\n",
       "      <td>-0.005363</td>\n",
       "      <td>-0.005788</td>\n",
       "      <td>0.028071</td>\n",
       "      <td>-0.008728</td>\n",
       "      <td>0.012369</td>\n",
       "    </tr>\n",
       "    <tr>\n",
       "      <th>2011-01-13 00:00:00+00:00</th>\n",
       "      <td>0.019280</td>\n",
       "      <td>0.019536</td>\n",
       "      <td>0.029307</td>\n",
       "      <td>-0.006450</td>\n",
       "      <td>0.018794</td>\n",
       "      <td>-0.009566</td>\n",
       "      <td>0.010025</td>\n",
       "      <td>0.002732</td>\n",
       "      <td>-0.018979</td>\n",
       "      <td>-0.002084</td>\n",
       "      <td>...</td>\n",
       "      <td>0.011511</td>\n",
       "      <td>-0.036536</td>\n",
       "      <td>0.001585</td>\n",
       "      <td>-0.035012</td>\n",
       "      <td>-0.017325</td>\n",
       "      <td>-0.004421</td>\n",
       "      <td>-0.013661</td>\n",
       "      <td>0.002156</td>\n",
       "      <td>-0.016895</td>\n",
       "      <td>-0.019771</td>\n",
       "    </tr>\n",
       "    <tr>\n",
       "      <th>2011-01-14 00:00:00+00:00</th>\n",
       "      <td>-0.131170</td>\n",
       "      <td>-0.044423</td>\n",
       "      <td>0.046050</td>\n",
       "      <td>-0.033573</td>\n",
       "      <td>0.016471</td>\n",
       "      <td>0.030591</td>\n",
       "      <td>-0.051052</td>\n",
       "      <td>0.026275</td>\n",
       "      <td>-0.052395</td>\n",
       "      <td>-0.061370</td>\n",
       "      <td>...</td>\n",
       "      <td>-0.005525</td>\n",
       "      <td>-0.005685</td>\n",
       "      <td>0.031470</td>\n",
       "      <td>-0.015066</td>\n",
       "      <td>-0.029907</td>\n",
       "      <td>-0.012073</td>\n",
       "      <td>-0.004197</td>\n",
       "      <td>-0.012616</td>\n",
       "      <td>-0.019545</td>\n",
       "      <td>-0.017629</td>\n",
       "    </tr>\n",
       "  </tbody>\n",
       "</table>\n",
       "<p>5 rows × 94 columns</p>\n",
       "</div>"
      ],
      "text/plain": [
       "                                 0         1         2         3         4   \\\n",
       "2011-01-10 00:00:00+00:00  0.006458  0.058455  0.033410 -0.022177  0.031756   \n",
       "2011-01-11 00:00:00+00:00 -0.085693  0.025431 -0.109053 -0.020033  0.014663   \n",
       "2011-01-12 00:00:00+00:00 -0.133752  0.004290 -0.025783  0.020204  0.051511   \n",
       "2011-01-13 00:00:00+00:00  0.019280  0.019536  0.029307 -0.006450  0.018794   \n",
       "2011-01-14 00:00:00+00:00 -0.131170 -0.044423  0.046050 -0.033573  0.016471   \n",
       "\n",
       "                                 5         6         7         8         9   \\\n",
       "2011-01-10 00:00:00+00:00 -0.019893 -0.009014 -0.058141 -0.026837  0.025801   \n",
       "2011-01-11 00:00:00+00:00  0.012230  0.003799  0.007578  0.002034 -0.067596   \n",
       "2011-01-12 00:00:00+00:00  0.035311 -0.016596 -0.007813 -0.035234 -0.023893   \n",
       "2011-01-13 00:00:00+00:00 -0.009566  0.010025  0.002732 -0.018979 -0.002084   \n",
       "2011-01-14 00:00:00+00:00  0.030591 -0.051052  0.026275 -0.052395 -0.061370   \n",
       "\n",
       "                           ...        84        85        86        87  \\\n",
       "2011-01-10 00:00:00+00:00  ...  0.000658  0.010119  0.009517 -0.009656   \n",
       "2011-01-11 00:00:00+00:00  ...  0.006973 -0.010899  0.010608  0.001657   \n",
       "2011-01-12 00:00:00+00:00  ...  0.016330  0.022749 -0.019499 -0.003652   \n",
       "2011-01-13 00:00:00+00:00  ...  0.011511 -0.036536  0.001585 -0.035012   \n",
       "2011-01-14 00:00:00+00:00  ... -0.005525 -0.005685  0.031470 -0.015066   \n",
       "\n",
       "                                 88        89        90        91        92  \\\n",
       "2011-01-10 00:00:00+00:00  0.008585 -0.011795  0.000195 -0.022678  0.015686   \n",
       "2011-01-11 00:00:00+00:00 -0.007289  0.011984 -0.002141 -0.018787 -0.001428   \n",
       "2011-01-12 00:00:00+00:00 -0.004940 -0.005363 -0.005788  0.028071 -0.008728   \n",
       "2011-01-13 00:00:00+00:00 -0.017325 -0.004421 -0.013661  0.002156 -0.016895   \n",
       "2011-01-14 00:00:00+00:00 -0.029907 -0.012073 -0.004197 -0.012616 -0.019545   \n",
       "\n",
       "                                 93  \n",
       "2011-01-10 00:00:00+00:00  0.017343  \n",
       "2011-01-11 00:00:00+00:00 -0.002786  \n",
       "2011-01-12 00:00:00+00:00  0.012369  \n",
       "2011-01-13 00:00:00+00:00 -0.019771  \n",
       "2011-01-14 00:00:00+00:00 -0.017629  \n",
       "\n",
       "[5 rows x 94 columns]"
      ]
     },
     "execution_count": 412,
     "metadata": {},
     "output_type": "execute_result"
    }
   ],
   "source": [
    "risk_model['factor_returns'].head()"
   ]
  },
  {
   "cell_type": "markdown",
   "metadata": {},
   "source": [
    "## Factor Covariance Matrix"
   ]
  },
  {
   "cell_type": "code",
   "execution_count": 27,
   "metadata": {},
   "outputs": [],
   "source": [
    "def factor_cov_matrix(factor_returns, ann_factor):\n",
    "    \"\"\"\n",
    "    Get the factor covariance matrix\n",
    "\n",
    "    Parameters\n",
    "    ----------\n",
    "    factor_returns : DataFrame\n",
    "        Factor returns\n",
    "    ann_factor : int\n",
    "        Annualization factor\n",
    "\n",
    "    Returns\n",
    "    -------\n",
    "    factor_cov_matrix : 2 dimensional Ndarray\n",
    "        Factor covariance matrix\n",
    "    \"\"\"\n",
    "    \n",
    "    factor_cov_matrix = np.diag(np.var(factor_returns, axis=0, ddof=1)*ann_factor)\n",
    "    \n",
    "    return factor_cov_matrix"
   ]
  },
  {
   "cell_type": "code",
   "execution_count": 28,
   "metadata": {},
   "outputs": [],
   "source": [
    "ann_factor = 252 # number of trading days\n",
    "risk_model['factor_cov_matrix'] = factor_cov_matrix(risk_model['factor_returns'], ann_factor)"
   ]
  },
  {
   "cell_type": "markdown",
   "metadata": {},
   "source": [
    "## Idiosyncratic Variance Matrix"
   ]
  },
  {
   "cell_type": "code",
   "execution_count": 29,
   "metadata": {},
   "outputs": [],
   "source": [
    "def idiosyncratic_var_matrix(returns, factor_returns, factor_betas, ann_factor):\n",
    "    \"\"\"\n",
    "    Get the idiosyncratic variance matrix\n",
    "\n",
    "    Parameters\n",
    "    ----------\n",
    "    returns : DataFrame\n",
    "        Returns for each ticker and date\n",
    "    factor_returns : DataFrame\n",
    "        Factor returns\n",
    "    factor_betas : DataFrame\n",
    "        Factor betas\n",
    "    ann_factor : int\n",
    "        Annualization factor\n",
    "\n",
    "    Returns\n",
    "    -------\n",
    "    idiosyncratic_var_matrix : DataFrame\n",
    "        Idiosyncratic variance matrix\n",
    "    \"\"\"\n",
    "    \n",
    "    _common_returns = pd.DataFrame(np.dot(factor_returns, factor_betas.T), returns.index, returns.columns)\n",
    "    _residuals = (returns - _common_returns)\n",
    "    idiosyncratic_var_matrix = pd.DataFrame(np.diag(np.var(_residuals)*ann_factor), returns.columns, returns.columns)\n",
    "    \n",
    "    return idiosyncratic_var_matrix"
   ]
  },
  {
   "cell_type": "code",
   "execution_count": 30,
   "metadata": {},
   "outputs": [],
   "source": [
    "risk_model['idiosyncratic_var_matrix'] = idiosyncratic_var_matrix(returns, risk_model['factor_returns'], risk_model['factor_betas'], ann_factor)"
   ]
  },
  {
   "cell_type": "code",
   "execution_count": 31,
   "metadata": {},
   "outputs": [
    {
     "data": {
      "text/html": [
       "<div>\n",
       "<style scoped>\n",
       "    .dataframe tbody tr th:only-of-type {\n",
       "        vertical-align: middle;\n",
       "    }\n",
       "\n",
       "    .dataframe tbody tr th {\n",
       "        vertical-align: top;\n",
       "    }\n",
       "\n",
       "    .dataframe thead th {\n",
       "        text-align: right;\n",
       "    }\n",
       "</style>\n",
       "<table border=\"1\" class=\"dataframe\">\n",
       "  <thead>\n",
       "    <tr style=\"text-align: right;\">\n",
       "      <th></th>\n",
       "      <th>Equity(0 [A])</th>\n",
       "      <th>Equity(2 [AAL])</th>\n",
       "      <th>Equity(8 [AAPL])</th>\n",
       "      <th>Equity(13 [ABC])</th>\n",
       "      <th>Equity(20 [ABT])</th>\n",
       "      <th>Equity(27 [ACE])</th>\n",
       "      <th>Equity(37 [ACN])</th>\n",
       "      <th>Equity(45 [ADBE])</th>\n",
       "      <th>Equity(49 [ADM])</th>\n",
       "      <th>Equity(52 [ADP])</th>\n",
       "      <th>...</th>\n",
       "      <th>Equity(3099 [WM])</th>\n",
       "      <th>Equity(3101 [WMB])</th>\n",
       "      <th>Equity(3105 [WMT])</th>\n",
       "      <th>Equity(3136 [WU])</th>\n",
       "      <th>Equity(3142 [WY])</th>\n",
       "      <th>Equity(3144 [WYNN])</th>\n",
       "      <th>Equity(3145 [X])</th>\n",
       "      <th>Equity(3156 [XOM])</th>\n",
       "      <th>Equity(3172 [YHOO])</th>\n",
       "      <th>Equity(3175 [YUM])</th>\n",
       "    </tr>\n",
       "  </thead>\n",
       "  <tbody>\n",
       "    <tr>\n",
       "      <th>Equity(0 [A])</th>\n",
       "      <td>0.016176</td>\n",
       "      <td>0.000000</td>\n",
       "      <td>0.000000</td>\n",
       "      <td>0.00000</td>\n",
       "      <td>0.000000</td>\n",
       "      <td>0.0</td>\n",
       "      <td>0.0</td>\n",
       "      <td>0.0</td>\n",
       "      <td>0.0</td>\n",
       "      <td>0.0</td>\n",
       "      <td>...</td>\n",
       "      <td>0.0</td>\n",
       "      <td>0.0</td>\n",
       "      <td>0.0</td>\n",
       "      <td>0.0</td>\n",
       "      <td>0.0</td>\n",
       "      <td>0.0</td>\n",
       "      <td>0.0</td>\n",
       "      <td>0.0</td>\n",
       "      <td>0.0</td>\n",
       "      <td>0.0</td>\n",
       "    </tr>\n",
       "    <tr>\n",
       "      <th>Equity(2 [AAL])</th>\n",
       "      <td>0.000000</td>\n",
       "      <td>0.005112</td>\n",
       "      <td>0.000000</td>\n",
       "      <td>0.00000</td>\n",
       "      <td>0.000000</td>\n",
       "      <td>0.0</td>\n",
       "      <td>0.0</td>\n",
       "      <td>0.0</td>\n",
       "      <td>0.0</td>\n",
       "      <td>0.0</td>\n",
       "      <td>...</td>\n",
       "      <td>0.0</td>\n",
       "      <td>0.0</td>\n",
       "      <td>0.0</td>\n",
       "      <td>0.0</td>\n",
       "      <td>0.0</td>\n",
       "      <td>0.0</td>\n",
       "      <td>0.0</td>\n",
       "      <td>0.0</td>\n",
       "      <td>0.0</td>\n",
       "      <td>0.0</td>\n",
       "    </tr>\n",
       "    <tr>\n",
       "      <th>Equity(8 [AAPL])</th>\n",
       "      <td>0.000000</td>\n",
       "      <td>0.000000</td>\n",
       "      <td>0.015889</td>\n",
       "      <td>0.00000</td>\n",
       "      <td>0.000000</td>\n",
       "      <td>0.0</td>\n",
       "      <td>0.0</td>\n",
       "      <td>0.0</td>\n",
       "      <td>0.0</td>\n",
       "      <td>0.0</td>\n",
       "      <td>...</td>\n",
       "      <td>0.0</td>\n",
       "      <td>0.0</td>\n",
       "      <td>0.0</td>\n",
       "      <td>0.0</td>\n",
       "      <td>0.0</td>\n",
       "      <td>0.0</td>\n",
       "      <td>0.0</td>\n",
       "      <td>0.0</td>\n",
       "      <td>0.0</td>\n",
       "      <td>0.0</td>\n",
       "    </tr>\n",
       "    <tr>\n",
       "      <th>Equity(13 [ABC])</th>\n",
       "      <td>0.000000</td>\n",
       "      <td>0.000000</td>\n",
       "      <td>0.000000</td>\n",
       "      <td>0.01422</td>\n",
       "      <td>0.000000</td>\n",
       "      <td>0.0</td>\n",
       "      <td>0.0</td>\n",
       "      <td>0.0</td>\n",
       "      <td>0.0</td>\n",
       "      <td>0.0</td>\n",
       "      <td>...</td>\n",
       "      <td>0.0</td>\n",
       "      <td>0.0</td>\n",
       "      <td>0.0</td>\n",
       "      <td>0.0</td>\n",
       "      <td>0.0</td>\n",
       "      <td>0.0</td>\n",
       "      <td>0.0</td>\n",
       "      <td>0.0</td>\n",
       "      <td>0.0</td>\n",
       "      <td>0.0</td>\n",
       "    </tr>\n",
       "    <tr>\n",
       "      <th>Equity(20 [ABT])</th>\n",
       "      <td>0.000000</td>\n",
       "      <td>0.000000</td>\n",
       "      <td>0.000000</td>\n",
       "      <td>0.00000</td>\n",
       "      <td>0.008815</td>\n",
       "      <td>0.0</td>\n",
       "      <td>0.0</td>\n",
       "      <td>0.0</td>\n",
       "      <td>0.0</td>\n",
       "      <td>0.0</td>\n",
       "      <td>...</td>\n",
       "      <td>0.0</td>\n",
       "      <td>0.0</td>\n",
       "      <td>0.0</td>\n",
       "      <td>0.0</td>\n",
       "      <td>0.0</td>\n",
       "      <td>0.0</td>\n",
       "      <td>0.0</td>\n",
       "      <td>0.0</td>\n",
       "      <td>0.0</td>\n",
       "      <td>0.0</td>\n",
       "    </tr>\n",
       "  </tbody>\n",
       "</table>\n",
       "<p>5 rows × 300 columns</p>\n",
       "</div>"
      ],
      "text/plain": [
       "                  Equity(0 [A])  Equity(2 [AAL])  Equity(8 [AAPL])  \\\n",
       "Equity(0 [A])          0.016176         0.000000          0.000000   \n",
       "Equity(2 [AAL])        0.000000         0.005112          0.000000   \n",
       "Equity(8 [AAPL])       0.000000         0.000000          0.015889   \n",
       "Equity(13 [ABC])       0.000000         0.000000          0.000000   \n",
       "Equity(20 [ABT])       0.000000         0.000000          0.000000   \n",
       "\n",
       "                  Equity(13 [ABC])  Equity(20 [ABT])  Equity(27 [ACE])  \\\n",
       "Equity(0 [A])              0.00000          0.000000               0.0   \n",
       "Equity(2 [AAL])            0.00000          0.000000               0.0   \n",
       "Equity(8 [AAPL])           0.00000          0.000000               0.0   \n",
       "Equity(13 [ABC])           0.01422          0.000000               0.0   \n",
       "Equity(20 [ABT])           0.00000          0.008815               0.0   \n",
       "\n",
       "                  Equity(37 [ACN])  Equity(45 [ADBE])  Equity(49 [ADM])  \\\n",
       "Equity(0 [A])                  0.0                0.0               0.0   \n",
       "Equity(2 [AAL])                0.0                0.0               0.0   \n",
       "Equity(8 [AAPL])               0.0                0.0               0.0   \n",
       "Equity(13 [ABC])               0.0                0.0               0.0   \n",
       "Equity(20 [ABT])               0.0                0.0               0.0   \n",
       "\n",
       "                  Equity(52 [ADP])  ...  Equity(3099 [WM])  \\\n",
       "Equity(0 [A])                  0.0  ...                0.0   \n",
       "Equity(2 [AAL])                0.0  ...                0.0   \n",
       "Equity(8 [AAPL])               0.0  ...                0.0   \n",
       "Equity(13 [ABC])               0.0  ...                0.0   \n",
       "Equity(20 [ABT])               0.0  ...                0.0   \n",
       "\n",
       "                  Equity(3101 [WMB])  Equity(3105 [WMT])  Equity(3136 [WU])  \\\n",
       "Equity(0 [A])                    0.0                 0.0                0.0   \n",
       "Equity(2 [AAL])                  0.0                 0.0                0.0   \n",
       "Equity(8 [AAPL])                 0.0                 0.0                0.0   \n",
       "Equity(13 [ABC])                 0.0                 0.0                0.0   \n",
       "Equity(20 [ABT])                 0.0                 0.0                0.0   \n",
       "\n",
       "                  Equity(3142 [WY])  Equity(3144 [WYNN])  Equity(3145 [X])  \\\n",
       "Equity(0 [A])                   0.0                  0.0               0.0   \n",
       "Equity(2 [AAL])                 0.0                  0.0               0.0   \n",
       "Equity(8 [AAPL])                0.0                  0.0               0.0   \n",
       "Equity(13 [ABC])                0.0                  0.0               0.0   \n",
       "Equity(20 [ABT])                0.0                  0.0               0.0   \n",
       "\n",
       "                  Equity(3156 [XOM])  Equity(3172 [YHOO])  Equity(3175 [YUM])  \n",
       "Equity(0 [A])                    0.0                  0.0                 0.0  \n",
       "Equity(2 [AAL])                  0.0                  0.0                 0.0  \n",
       "Equity(8 [AAPL])                 0.0                  0.0                 0.0  \n",
       "Equity(13 [ABC])                 0.0                  0.0                 0.0  \n",
       "Equity(20 [ABT])                 0.0                  0.0                 0.0  \n",
       "\n",
       "[5 rows x 300 columns]"
      ]
     },
     "execution_count": 31,
     "metadata": {},
     "output_type": "execute_result"
    }
   ],
   "source": [
    "risk_model['idiosyncratic_var_matrix'].head()"
   ]
  },
  {
   "cell_type": "markdown",
   "metadata": {},
   "source": [
    "## Idiosyncratic Variance Vector "
   ]
  },
  {
   "cell_type": "code",
   "execution_count": 35,
   "metadata": {},
   "outputs": [],
   "source": [
    "def idiosyncratic_var_vector(returns, idiosyncratic_var_matrix):\n",
    "    \"\"\"\n",
    "    Get the idiosyncratic variance vector\n",
    "\n",
    "    Parameters\n",
    "    ----------\n",
    "    returns : DataFrame\n",
    "        Returns for each ticker and date\n",
    "    idiosyncratic_var_matrix : DataFrame\n",
    "        Idiosyncratic variance matrix\n",
    "\n",
    "    Returns\n",
    "    -------\n",
    "    idiosyncratic_var_vector : DataFrame\n",
    "        Idiosyncratic variance Vector\n",
    "    \"\"\"\n",
    "    \n",
    "    idiosyncratic_var_vector = pd.DataFrame(np.diag(idiosyncratic_var_matrix), returns.columns)\n",
    "    \n",
    "    return idiosyncratic_var_vector"
   ]
  },
  {
   "cell_type": "code",
   "execution_count": 36,
   "metadata": {},
   "outputs": [],
   "source": [
    "idiosyncratic_var_vector = idiosyncratic_var_vector(returns, risk_model['idiosyncratic_var_matrix'])"
   ]
  },
  {
   "cell_type": "code",
   "execution_count": 37,
   "metadata": {
    "scrolled": false
   },
   "outputs": [
    {
     "data": {
      "text/html": [
       "<div>\n",
       "<style scoped>\n",
       "    .dataframe tbody tr th:only-of-type {\n",
       "        vertical-align: middle;\n",
       "    }\n",
       "\n",
       "    .dataframe tbody tr th {\n",
       "        vertical-align: top;\n",
       "    }\n",
       "\n",
       "    .dataframe thead th {\n",
       "        text-align: right;\n",
       "    }\n",
       "</style>\n",
       "<table border=\"1\" class=\"dataframe\">\n",
       "  <thead>\n",
       "    <tr style=\"text-align: right;\">\n",
       "      <th></th>\n",
       "      <th>0</th>\n",
       "    </tr>\n",
       "  </thead>\n",
       "  <tbody>\n",
       "    <tr>\n",
       "      <th>Equity(0 [A])</th>\n",
       "      <td>0.016176</td>\n",
       "    </tr>\n",
       "    <tr>\n",
       "      <th>Equity(2 [AAL])</th>\n",
       "      <td>0.005112</td>\n",
       "    </tr>\n",
       "    <tr>\n",
       "      <th>Equity(8 [AAPL])</th>\n",
       "      <td>0.015889</td>\n",
       "    </tr>\n",
       "    <tr>\n",
       "      <th>Equity(13 [ABC])</th>\n",
       "      <td>0.014220</td>\n",
       "    </tr>\n",
       "    <tr>\n",
       "      <th>Equity(20 [ABT])</th>\n",
       "      <td>0.008815</td>\n",
       "    </tr>\n",
       "    <tr>\n",
       "      <th>...</th>\n",
       "      <td>...</td>\n",
       "    </tr>\n",
       "    <tr>\n",
       "      <th>Equity(3144 [WYNN])</th>\n",
       "      <td>0.013671</td>\n",
       "    </tr>\n",
       "    <tr>\n",
       "      <th>Equity(3145 [X])</th>\n",
       "      <td>0.010745</td>\n",
       "    </tr>\n",
       "    <tr>\n",
       "      <th>Equity(3156 [XOM])</th>\n",
       "      <td>0.005764</td>\n",
       "    </tr>\n",
       "    <tr>\n",
       "      <th>Equity(3172 [YHOO])</th>\n",
       "      <td>0.011832</td>\n",
       "    </tr>\n",
       "    <tr>\n",
       "      <th>Equity(3175 [YUM])</th>\n",
       "      <td>0.020185</td>\n",
       "    </tr>\n",
       "  </tbody>\n",
       "</table>\n",
       "<p>300 rows × 1 columns</p>\n",
       "</div>"
      ],
      "text/plain": [
       "                            0\n",
       "Equity(0 [A])        0.016176\n",
       "Equity(2 [AAL])      0.005112\n",
       "Equity(8 [AAPL])     0.015889\n",
       "Equity(13 [ABC])     0.014220\n",
       "Equity(20 [ABT])     0.008815\n",
       "...                       ...\n",
       "Equity(3144 [WYNN])  0.013671\n",
       "Equity(3145 [X])     0.010745\n",
       "Equity(3156 [XOM])   0.005764\n",
       "Equity(3172 [YHOO])  0.011832\n",
       "Equity(3175 [YUM])   0.020185\n",
       "\n",
       "[300 rows x 1 columns]"
      ]
     },
     "execution_count": 37,
     "metadata": {},
     "output_type": "execute_result"
    }
   ],
   "source": [
    "idiosyncratic_var_vector"
   ]
  },
  {
   "cell_type": "markdown",
   "metadata": {},
   "source": [
    "# Sort & Cluster"
   ]
  },
  {
   "cell_type": "code",
   "execution_count": 44,
   "metadata": {},
   "outputs": [],
   "source": [
    "low_var_equities_df = idiosyncratic_var_vector.sort_values(by=[0]).iloc[:100]\n",
    "mid_var_equities_df = idiosyncratic_var_vector.sort_values(by=[0]).iloc[100:200]\n",
    "high_var_equities_df = idiosyncratic_var_vector.sort_values(by=[0]).iloc[200:]"
   ]
  },
  {
   "cell_type": "code",
   "execution_count": 69,
   "metadata": {},
   "outputs": [],
   "source": [
    "low_var_equities_tickers = list(low_var_equities_df.index)\n",
    "mid_var_equities_tickers = list(mid_var_equities_df.index)\n",
    "high_var_equities_tickers = list(high_var_equities_df.index)"
   ]
  },
  {
   "cell_type": "code",
   "execution_count": 70,
   "metadata": {},
   "outputs": [],
   "source": [
    "def extract_ticker(equity):\n",
    "    return str(equity).split('[')[1].split(']')[0]"
   ]
  },
  {
   "cell_type": "code",
   "execution_count": 71,
   "metadata": {},
   "outputs": [
    {
     "data": {
      "text/plain": [
       "'FITB'"
      ]
     },
     "execution_count": 71,
     "metadata": {},
     "output_type": "execute_result"
    }
   ],
   "source": [
    "extract_ticker(high_var_equities_tickers[4])"
   ]
  },
  {
   "cell_type": "markdown",
   "metadata": {},
   "source": [
    "# Backtest (Cluster-wise)"
   ]
  },
  {
   "cell_type": "markdown",
   "metadata": {},
   "source": [
    "## Set benchmark"
   ]
  },
  {
   "cell_type": "code",
   "execution_count": 130,
   "metadata": {},
   "outputs": [],
   "source": [
    "from zipline import run_algorithm\n",
    "from zipline.api import order, record, symbol, order_target, order_percent"
   ]
  },
  {
   "cell_type": "code",
   "execution_count": 238,
   "metadata": {},
   "outputs": [],
   "source": [
    "sp500 = web.DataReader('^GSPC', 'yahoo', start_date, end_date)['Adj Close']"
   ]
  },
  {
   "cell_type": "code",
   "execution_count": 239,
   "metadata": {},
   "outputs": [
    {
     "data": {
      "text/plain": [
       "Date\n",
       "2011-01-05    1276.560059\n",
       "2011-01-06    1273.849976\n",
       "2011-01-07    1271.500000\n",
       "2011-01-10    1269.750000\n",
       "2011-01-11    1274.479980\n",
       "                 ...     \n",
       "2012-12-31    1426.189941\n",
       "2013-01-02    1462.420044\n",
       "2013-01-03    1459.369995\n",
       "2013-01-04    1466.469971\n",
       "2013-01-07    1461.890015\n",
       "Name: Adj Close, Length: 504, dtype: float64"
      ]
     },
     "execution_count": 239,
     "metadata": {},
     "output_type": "execute_result"
    }
   ],
   "source": [
    "sp500"
   ]
  },
  {
   "cell_type": "code",
   "execution_count": 240,
   "metadata": {},
   "outputs": [],
   "source": [
    "benchmark_returns = sp500.pct_change()"
   ]
  },
  {
   "cell_type": "code",
   "execution_count": 241,
   "metadata": {},
   "outputs": [],
   "source": [
    "market_risk = benchmark_returns.std()"
   ]
  },
  {
   "cell_type": "code",
   "execution_count": 242,
   "metadata": {},
   "outputs": [
    {
     "data": {
      "text/plain": [
       "0.011859278187094723"
      ]
     },
     "execution_count": 242,
     "metadata": {},
     "output_type": "execute_result"
    }
   ],
   "source": [
    "market_risk"
   ]
  },
  {
   "cell_type": "code",
   "execution_count": 116,
   "metadata": {},
   "outputs": [
    {
     "data": {
      "text/html": [
       "<div>\n",
       "<style scoped>\n",
       "    .dataframe tbody tr th:only-of-type {\n",
       "        vertical-align: middle;\n",
       "    }\n",
       "\n",
       "    .dataframe tbody tr th {\n",
       "        vertical-align: top;\n",
       "    }\n",
       "\n",
       "    .dataframe thead th {\n",
       "        text-align: right;\n",
       "    }\n",
       "</style>\n",
       "<table border=\"1\" class=\"dataframe\">\n",
       "  <thead>\n",
       "    <tr style=\"text-align: right;\">\n",
       "      <th></th>\n",
       "      <th>0</th>\n",
       "    </tr>\n",
       "  </thead>\n",
       "  <tbody>\n",
       "    <tr>\n",
       "      <th>Equity(814 [DG])</th>\n",
       "      <td>0.013888</td>\n",
       "    </tr>\n",
       "    <tr>\n",
       "      <th>Equity(1402 [HST])</th>\n",
       "      <td>0.013951</td>\n",
       "    </tr>\n",
       "    <tr>\n",
       "      <th>Equity(2143 [OXY])</th>\n",
       "      <td>0.014019</td>\n",
       "    </tr>\n",
       "    <tr>\n",
       "      <th>Equity(2813 [TMO])</th>\n",
       "      <td>0.014061</td>\n",
       "    </tr>\n",
       "    <tr>\n",
       "      <th>Equity(1088 [FITB])</th>\n",
       "      <td>0.014088</td>\n",
       "    </tr>\n",
       "    <tr>\n",
       "      <th>...</th>\n",
       "      <td>...</td>\n",
       "    </tr>\n",
       "    <tr>\n",
       "      <th>Equity(162 [AMT])</th>\n",
       "      <td>0.018853</td>\n",
       "    </tr>\n",
       "    <tr>\n",
       "      <th>Equity(529 [CELG])</th>\n",
       "      <td>0.019037</td>\n",
       "    </tr>\n",
       "    <tr>\n",
       "      <th>Equity(514 [CCL])</th>\n",
       "      <td>0.019405</td>\n",
       "    </tr>\n",
       "    <tr>\n",
       "      <th>Equity(2314 [PSX])</th>\n",
       "      <td>0.020160</td>\n",
       "    </tr>\n",
       "    <tr>\n",
       "      <th>Equity(3175 [YUM])</th>\n",
       "      <td>0.020185</td>\n",
       "    </tr>\n",
       "  </tbody>\n",
       "</table>\n",
       "<p>100 rows × 1 columns</p>\n",
       "</div>"
      ],
      "text/plain": [
       "                            0\n",
       "Equity(814 [DG])     0.013888\n",
       "Equity(1402 [HST])   0.013951\n",
       "Equity(2143 [OXY])   0.014019\n",
       "Equity(2813 [TMO])   0.014061\n",
       "Equity(1088 [FITB])  0.014088\n",
       "...                       ...\n",
       "Equity(162 [AMT])    0.018853\n",
       "Equity(529 [CELG])   0.019037\n",
       "Equity(514 [CCL])    0.019405\n",
       "Equity(2314 [PSX])   0.020160\n",
       "Equity(3175 [YUM])   0.020185\n",
       "\n",
       "[100 rows x 1 columns]"
      ]
     },
     "execution_count": 116,
     "metadata": {},
     "output_type": "execute_result"
    }
   ],
   "source": [
    "high_var_equities_df"
   ]
  },
  {
   "cell_type": "markdown",
   "metadata": {},
   "source": [
    "## Dictionary to save results"
   ]
  },
  {
   "cell_type": "code",
   "execution_count": 151,
   "metadata": {},
   "outputs": [],
   "source": [
    "results = {}"
   ]
  },
  {
   "cell_type": "markdown",
   "metadata": {},
   "source": [
    "## Buy and Hold"
   ]
  },
  {
   "cell_type": "markdown",
   "metadata": {},
   "source": [
    "Buy 10 shares at the beginning at hold until the end"
   ]
  },
  {
   "cell_type": "code",
   "execution_count": 157,
   "metadata": {},
   "outputs": [],
   "source": [
    "def buy_and_hold(stocks):\n",
    "    bnh_results = {}\n",
    "    \n",
    "    for stock in stocks:\n",
    "        \n",
    "        selected_stock = extract_ticker(stock)\n",
    "        \n",
    "        def initialize(context):\n",
    "            context.has_ordered = False\n",
    "            \n",
    "        def handle_data(context, data):\n",
    "            # record price for further inspection\n",
    "            record(price=data.current(symbol(selected_stock), 'price'))\n",
    "\n",
    "            # trading logic\n",
    "            if not context.has_ordered:\n",
    "                # All in\n",
    "                order_percent(symbol(selected_stock), 1.0)\n",
    "                # setting up a flag for holding a position\n",
    "                context.has_ordered = True\n",
    "        try:        \n",
    "            result = run_algorithm(\n",
    "                start=start_date,\n",
    "                end=end_date,\n",
    "                initialize=initialize,\n",
    "                handle_data=handle_data,\n",
    "                capital_base=100000,\n",
    "                benchmark_returns=benchmark_returns,\n",
    "                bundle='quandl',\n",
    "                data_frequency='daily'\n",
    "            )\n",
    "        except:\n",
    "            pass\n",
    "        \n",
    "        bnh_results[stock] = result\n",
    "        \n",
    "    return bnh_results"
   ]
  },
  {
   "cell_type": "code",
   "execution_count": 158,
   "metadata": {},
   "outputs": [],
   "source": [
    "bnh_high = buy_and_hold(high_var_equities_tickers)"
   ]
  },
  {
   "cell_type": "code",
   "execution_count": 204,
   "metadata": {},
   "outputs": [
    {
     "data": {
      "text/plain": [
       "121052.283082465"
      ]
     },
     "execution_count": 204,
     "metadata": {},
     "output_type": "execute_result"
    }
   ],
   "source": [
    "np.mean([bnh_high[stock].portfolio_value.iloc[-1] for stock in list(bnh_high.keys())])"
   ]
  },
  {
   "cell_type": "code",
   "execution_count": 159,
   "metadata": {},
   "outputs": [],
   "source": [
    "bnh_mid = buy_and_hold(mid_var_equities_tickers)"
   ]
  },
  {
   "cell_type": "code",
   "execution_count": 205,
   "metadata": {},
   "outputs": [
    {
     "data": {
      "text/plain": [
       "116584.97531780999"
      ]
     },
     "execution_count": 205,
     "metadata": {},
     "output_type": "execute_result"
    }
   ],
   "source": [
    "np.mean([bnh_mid[stock].portfolio_value.iloc[-1] for stock in list(bnh_mid.keys())])"
   ]
  },
  {
   "cell_type": "code",
   "execution_count": 160,
   "metadata": {},
   "outputs": [],
   "source": [
    "bnh_low = buy_and_hold(low_var_equities_tickers)"
   ]
  },
  {
   "cell_type": "code",
   "execution_count": 206,
   "metadata": {},
   "outputs": [
    {
     "data": {
      "text/plain": [
       "122566.64990998"
      ]
     },
     "execution_count": 206,
     "metadata": {},
     "output_type": "execute_result"
    }
   ],
   "source": [
    "np.mean([bnh_low[stock].portfolio_value.iloc[-1] for stock in list(bnh_low.keys())])"
   ]
  },
  {
   "cell_type": "markdown",
   "metadata": {},
   "source": [
    "## Moving Average Based Strategy"
   ]
  },
  {
   "cell_type": "code",
   "execution_count": 181,
   "metadata": {},
   "outputs": [],
   "source": [
    "from zipline.api import order_target_percent"
   ]
  },
  {
   "cell_type": "code",
   "execution_count": 182,
   "metadata": {},
   "outputs": [],
   "source": [
    "def moving_average(stocks):\n",
    "    ma_results = {}\n",
    "    \n",
    "    for stock in stocks:\n",
    "        \n",
    "        selected_stock = extract_ticker(stock)\n",
    "        \n",
    "        def initialize_ma(context):\n",
    "            context.i = 0\n",
    "            context.sym = symbol(selected_stock)\n",
    "            context.hold = False\n",
    "\n",
    "        def handle_data_ma(context, data):\n",
    "            context.i += 1\n",
    "            if context.i < 20:\n",
    "                return\n",
    "\n",
    "            buy = False\n",
    "            sell = False\n",
    "\n",
    "            ma5 = data.history(context.sym, 'price', 5, '1d').mean()\n",
    "            ma20 = data.history(context.sym, 'price', 20, '1d').mean()\n",
    "\n",
    "            if ma5 > ma20 and context.hold == False:\n",
    "                order_target_percent(context.sym, 1.0)\n",
    "                context.hold = True\n",
    "                buy = True\n",
    "                \n",
    "            elif ma5 < ma20 and context.hold == True:\n",
    "                order_target_percent(context.sym, 0.0)\n",
    "                context.hold = False\n",
    "                sell = True\n",
    "\n",
    "            record(PRICE=data.current(context.sym, \"price\"), ma5=ma5, ma20=ma20, buy=buy, sell=sell)\n",
    "        try:\n",
    "            ma_result = run_algorithm(start=start_date,\n",
    "                                      end=end_date,\n",
    "                                      initialize=initialize_ma,\n",
    "                                      handle_data=handle_data_ma,\n",
    "                                      capital_base=100000,\n",
    "                                      benchmark_returns=benchmark_returns,\n",
    "                                      bundle='quandl',\n",
    "                                      data_frequency='daily'\n",
    "                                     )\n",
    "            \n",
    "            ma_results[stock] = ma_result\n",
    "        except:\n",
    "            pass\n",
    "        \n",
    "        \n",
    "        \n",
    "    return ma_results"
   ]
  },
  {
   "cell_type": "code",
   "execution_count": 183,
   "metadata": {},
   "outputs": [],
   "source": [
    "ma_high = moving_average(high_var_equities_tickers)"
   ]
  },
  {
   "cell_type": "code",
   "execution_count": 202,
   "metadata": {},
   "outputs": [
    {
     "data": {
      "text/plain": [
       "101566.89459850999"
      ]
     },
     "execution_count": 202,
     "metadata": {},
     "output_type": "execute_result"
    }
   ],
   "source": [
    "np.mean([ma_high[stock].portfolio_value.iloc[-1] for stock in list(ma_high.keys())])"
   ]
  },
  {
   "cell_type": "code",
   "execution_count": 184,
   "metadata": {},
   "outputs": [],
   "source": [
    "ma_mid = moving_average(mid_var_equities_tickers)"
   ]
  },
  {
   "cell_type": "code",
   "execution_count": 203,
   "metadata": {},
   "outputs": [
    {
     "data": {
      "text/plain": [
       "99030.16738984"
      ]
     },
     "execution_count": 203,
     "metadata": {},
     "output_type": "execute_result"
    }
   ],
   "source": [
    "np.mean([ma_mid[stock].portfolio_value.iloc[-1] for stock in list(ma_mid.keys())])"
   ]
  },
  {
   "cell_type": "code",
   "execution_count": 188,
   "metadata": {},
   "outputs": [],
   "source": [
    "ma_low = moving_average(low_var_equities_tickers)"
   ]
  },
  {
   "cell_type": "code",
   "execution_count": 201,
   "metadata": {},
   "outputs": [
    {
     "data": {
      "text/plain": [
       "102133.81963112499"
      ]
     },
     "execution_count": 201,
     "metadata": {},
     "output_type": "execute_result"
    }
   ],
   "source": [
    "np.mean([ma_low[stock].portfolio_value.iloc[-1] for stock in list(ma_low.keys())])"
   ]
  },
  {
   "cell_type": "markdown",
   "metadata": {},
   "source": [
    "## Invest in S&P 500"
   ]
  },
  {
   "cell_type": "code",
   "execution_count": 129,
   "metadata": {},
   "outputs": [
    {
     "data": {
      "text/plain": [
       "0.18230931603678213"
      ]
     },
     "execution_count": 129,
     "metadata": {},
     "output_type": "execute_result"
    }
   ],
   "source": [
    "sp500.iloc[-1]/sp500.iloc[0] - 1"
   ]
  },
  {
   "cell_type": "markdown",
   "metadata": {},
   "source": [
    "## Stop-loss and Take-profit"
   ]
  },
  {
   "cell_type": "code",
   "execution_count": 391,
   "metadata": {},
   "outputs": [],
   "source": [
    "def sl_tp(stocks):\n",
    "    \n",
    "    sl_result = {}\n",
    "    \n",
    "    for stock in stocks:\n",
    "        \n",
    "        def initialize_sl(context):\n",
    "            context.i = 0\n",
    "            context.sym = symbol(extract_ticker(stock))\n",
    "            context.hold = False\n",
    "            \n",
    "        def handle_data_sl(context, data):\n",
    "            context.i += 1\n",
    "            \n",
    "            record(ORDERED=context.hold)\n",
    "            if context.i == 1:\n",
    "                order_target_percent(context.sym, 1.0)\n",
    "                context.hold = True\n",
    "                return\n",
    "            elif context.i < 5:\n",
    "                return\n",
    "            \n",
    "            ma5 = data.history(context.sym, 'price', 5, '1d').pct_change().mean()\n",
    "            st5 = data.history(context.sym, 'price', 5, '1d').pct_change().std()\n",
    "\n",
    "            if context.hold == True and abs(ma5) > 0.03 and st5 > market_risk + idiosyncratic_var_vector.loc[selected_stock].values[0]:\n",
    "                order_target_percent(context.sym, 0.0)\n",
    "                context.hold = False\n",
    "        try:\n",
    "            bt_result = run_algorithm(start=start_date, \n",
    "                                      end=end_date,\n",
    "                                      initialize=initialize_sl,\n",
    "                                      handle_data=handle_data_sl,\n",
    "                                      capital_base=100000,\n",
    "                                      benchmark_returns=benchmark_returns,\n",
    "                                      bundle='quandl',\n",
    "                                      data_frequency='daily'\n",
    "                                     )\n",
    "            sl_result[stock] = bt_result\n",
    "        except:\n",
    "            pass\n",
    "    return sl_result\n",
    "            "
   ]
  },
  {
   "cell_type": "markdown",
   "metadata": {},
   "source": [
    "### Risk"
   ]
  },
  {
   "cell_type": "code",
   "execution_count": 392,
   "metadata": {},
   "outputs": [],
   "source": [
    "sl_tp_high_10 = sl_tp(high_var_equities_tickers)"
   ]
  },
  {
   "cell_type": "code",
   "execution_count": 393,
   "metadata": {},
   "outputs": [
    {
     "data": {
      "text/plain": [
       "102164.22002968367"
      ]
     },
     "execution_count": 393,
     "metadata": {},
     "output_type": "execute_result"
    }
   ],
   "source": [
    "np.mean([sl_tp_high_10[stock].portfolio_value.iloc[-1] for stock in list(sl_tp_high_10.keys())])"
   ]
  },
  {
   "cell_type": "code",
   "execution_count": 394,
   "metadata": {},
   "outputs": [],
   "source": [
    "sl_tp_mid_10 = sl_tp(mid_var_equities_tickers)"
   ]
  },
  {
   "cell_type": "code",
   "execution_count": 395,
   "metadata": {},
   "outputs": [
    {
     "data": {
      "text/plain": [
       "102432.47151367173"
      ]
     },
     "execution_count": 395,
     "metadata": {},
     "output_type": "execute_result"
    }
   ],
   "source": [
    "np.mean([sl_tp_mid_10[stock].portfolio_value.iloc[-1] for stock in list(sl_tp_mid_10.keys())])"
   ]
  },
  {
   "cell_type": "code",
   "execution_count": 396,
   "metadata": {},
   "outputs": [],
   "source": [
    "sl_tp_low_10 = sl_tp(low_var_equities_tickers)"
   ]
  },
  {
   "cell_type": "code",
   "execution_count": 397,
   "metadata": {},
   "outputs": [
    {
     "data": {
      "text/plain": [
       "109101.50334042187"
      ]
     },
     "execution_count": 397,
     "metadata": {},
     "output_type": "execute_result"
    }
   ],
   "source": [
    "np.mean([sl_tp_low_10[stock].portfolio_value.iloc[-1] for stock in list(sl_tp_low_10.keys())])"
   ]
  },
  {
   "cell_type": "code",
   "execution_count": 410,
   "metadata": {},
   "outputs": [
    {
     "data": {
      "text/plain": [
       "137243.71454789286"
      ]
     },
     "execution_count": 410,
     "metadata": {},
     "output_type": "execute_result"
    }
   ],
   "source": [
    "np.mean([bnh_high[stock].portfolio_value.iloc[-1] for stock in bnh_high if bnh_high[stock].portfolio_value.iloc[-1] > 100000])"
   ]
  },
  {
   "cell_type": "code",
   "execution_count": 411,
   "metadata": {},
   "outputs": [
    {
     "data": {
      "text/plain": [
       "126496.28346262196"
      ]
     },
     "execution_count": 411,
     "metadata": {},
     "output_type": "execute_result"
    }
   ],
   "source": [
    "np.mean([sl_tp_high_10[stock].portfolio_value.iloc[-1] for stock in sl_tp_high_10 if sl_tp_high_10[stock].portfolio_value.iloc[-1] > 100000])"
   ]
  },
  {
   "cell_type": "code",
   "execution_count": 423,
   "metadata": {},
   "outputs": [
    {
     "name": "stdout",
     "output_type": "stream",
     "text": [
      "Equity(1402 [HST]) 92030.66503999999\n",
      "Equity(2143 [OXY]) 83051.97758\n",
      "Equity(138 [AMAT]) 83456.84198\n",
      "Equity(878 [DVN]) 69455.50605999999\n",
      "Equity(421 [BRCM]) 76592.28132400001\n",
      "Equity(3012 [VOD]) 96354.71257999999\n",
      "Equity(216 [ARNC]) 55203.86848\n",
      "Equity(1575 [JOY]) 77749.97027500001\n",
      "Equity(300 [BAC]) 84985.734375\n",
      "Equity(457 [C]) 85931.30905999999\n",
      "Equity(729 [CTL]) 89652.509\n",
      "Equity(1631 [KSS]) 80942.3977\n",
      "Equity(2675 [STJ]) 92290.80094999999\n",
      "Equity(1720 [LRCX]) 79590.17559999999\n",
      "Equity(412 [BP]) 94151.16148\n",
      "Equity(1031 [F]) 73382.45912\n",
      "Equity(440 [BTU]) 43548.75719499999\n",
      "Equity(1331 [HES]) 70506.32173\n",
      "Equity(994 [ESRX]) 96896.95474999999\n",
      "Equity(1917 [MUR]) 85316.69124999999\n",
      "Equity(1378 [HOT]) 97253.873715\n",
      "Equity(705 [CSCO]) 96699.54209500001\n",
      "Equity(2517 [SCHW]) 85366.98602\n",
      "Equity(49 [ADM]) 87515.743875\n",
      "Equity(134 [ALTR]) 97388.07680000001\n",
      "Equity(3006 [VMW]) 97020.956485\n",
      "Equity(608 [CME]) 87163.98405999999\n",
      "Equity(1884 [MRO]) 81917.962415\n",
      "Equity(514 [CCL]) 78375.03444999999\n",
      "Equity(2314 [PSX]) 78375.03444999999\n"
     ]
    }
   ],
   "source": [
    "for stock in bnh_high.keys():\n",
    "    if bnh_high[stock].portfolio_value.iloc[-1] < 100000:\n",
    "        print(stock, bnh_high[stock].portfolio_value.iloc[-1])"
   ]
  },
  {
   "cell_type": "code",
   "execution_count": 424,
   "metadata": {},
   "outputs": [
    {
     "name": "stdout",
     "output_type": "stream",
     "text": [
      "Equity(1402 [HST]) 74195.20367\n",
      "Equity(2813 [TMO]) 98660.57865999997\n",
      "Equity(1088 [FITB]) 71689.19011249999\n",
      "Equity(138 [AMAT]) 75492.696265\n",
      "Equity(878 [DVN]) 87468.44958999999\n",
      "Equity(421 [BRCM]) 78289.45306899998\n",
      "Equity(3012 [VOD]) 96354.71257999999\n",
      "Equity(642 [COH]) 94925.473135\n",
      "Equity(216 [ARNC]) 77711.95024000002\n",
      "Equity(2220 [PH]) 78432.44769999999\n",
      "Equity(1575 [JOY]) 92244.31937500002\n",
      "Equity(2726 [SYMC]) 96274.03203999998\n",
      "Equity(851 [DOV]) 93976.63115500002\n",
      "Equity(300 [BAC]) 46314.76849999999\n",
      "Equity(472 [CAM]) 98278.25603500001\n",
      "Equity(1516 [IR]) 68515.98009999999\n",
      "Equity(736 [CTSH]) 86360.1851\n",
      "Equity(457 [C]) 56570.65956\n",
      "Equity(729 [CTL]) 75863.04100000001\n",
      "Equity(963 [EOG]) 77785.80876999999\n",
      "Equity(828 [DISCA]) 97862.4632\n",
      "Equity(997 [ESV]) 87317.25159999997\n",
      "Equity(1498 [INTU]) 92095.69464999998\n",
      "Equity(2883 [TWC]) 95302.91556000001\n",
      "Equity(1631 [KSS]) 91096.8376\n",
      "Equity(1651 [LBTYA]) 97202.05506\n",
      "Equity(2675 [STJ]) 93374.20405\n",
      "Equity(1720 [LRCX]) 89415.79391999998\n",
      "Equity(412 [BP]) 94151.16148\n",
      "Equity(1031 [F]) 84146.07352\n",
      "Equity(440 [BTU]) 75238.74918999997\n",
      "Equity(1331 [HES]) 70696.87111\n",
      "Equity(994 [ESRX]) 73039.98513999999\n",
      "Equity(1965 [NE]) 84344.99396499999\n",
      "Equity(45 [ADBE]) 74999.07804000001\n",
      "Equity(640 [COF]) 89793.47676999998\n",
      "Equity(1917 [MUR]) 73805.43699999999\n",
      "Equity(37 [ACN]) 99813.25724\n",
      "Equity(2124 [ORCL]) 88896.10148000001\n",
      "Equity(1378 [HOT]) 76311.595855\n",
      "Equity(3001 [VLO]) 86778.34465\n",
      "Equity(3142 [WY]) 82613.20420000001\n",
      "Equity(705 [CSCO]) 89061.071545\n",
      "Equity(2517 [SCHW]) 70359.26446\n",
      "Equity(1865 [MON]) 98682.09568000001\n",
      "Equity(49 [ADM]) 87515.743875\n",
      "Equity(134 [ALTR]) 94118.56320000002\n",
      "Equity(195 [APC]) 95655.27413000002\n",
      "Equity(2710 [SWK]) 81916.63295500002\n",
      "Equity(608 [CME]) 89622.55017999999\n",
      "Equity(1818 [MHFI]) 99419.6847\n",
      "Equity(1932 [MYL]) 80134.73079999999\n",
      "Equity(610 [CMI]) 82973.392385\n",
      "Equity(1884 [MRO]) 66644.50687499999\n",
      "Equity(1504 [IP]) 91149.45954999997\n",
      "Equity(1245 [GOOGL]) 96418.55422\n",
      "Equity(514 [CCL]) 78375.03444999999\n"
     ]
    }
   ],
   "source": [
    "for stock in sl_tp_high_10.keys():\n",
    "    if sl_tp_high_10[stock].portfolio_value.iloc[-1] < 100000:\n",
    "        print(stock, sl_tp_high_10[stock].portfolio_value.iloc[-1])"
   ]
  },
  {
   "cell_type": "markdown",
   "metadata": {},
   "source": [
    "### 0.5 Risk"
   ]
  },
  {
   "cell_type": "code",
   "execution_count": null,
   "metadata": {},
   "outputs": [],
   "source": []
  },
  {
   "cell_type": "markdown",
   "metadata": {},
   "source": [
    "### 1.5 Risk"
   ]
  },
  {
   "cell_type": "code",
   "execution_count": null,
   "metadata": {},
   "outputs": [],
   "source": []
  },
  {
   "cell_type": "code",
   "execution_count": 374,
   "metadata": {},
   "outputs": [],
   "source": [
    "selected_stock = high_var_equities_tickers[3]\n",
    "\n",
    "def initialize_sl(context):\n",
    "    context.i = 0\n",
    "    context.sym = symbol(extract_ticker(selected_stock))\n",
    "    context.hold = False\n",
    "\n",
    "def handle_data_sl(context, data):\n",
    "    \n",
    "    context.i += 1\n",
    "    \n",
    "    record(ORDERED=context.hold)\n",
    "    if context.i == 1:\n",
    "        order_target_percent(context.sym, 1.0)\n",
    "        context.hold = True\n",
    "        return\n",
    "\n",
    "    ma5 = data.history(context.sym, 'price', 5, '1d').pct_change().mean()\n",
    "    st5 = data.history(context.sym, 'price', 5, '1d').pct_change().std()\n",
    "    \n",
    "    if context.hold == True and abs(ma5) > 0.03 and st5 > market_risk + idiosyncratic_var_vector.loc[selected_stock].values[0]:\n",
    "        order_target_percent(context.sym, 0.0)\n",
    "        context.hold = False\n",
    "    \n",
    "\n",
    "sl_result = run_algorithm(start=start_date,\n",
    "                          end=end_date,\n",
    "                          initialize=initialize_sl,\n",
    "                          handle_data=handle_data_sl,\n",
    "                          capital_base=100000,\n",
    "                          benchmark_returns=benchmark_returns,\n",
    "                          bundle='quandl',\n",
    "                          data_frequency='daily'\n",
    "                         )"
   ]
  },
  {
   "cell_type": "code",
   "execution_count": 375,
   "metadata": {},
   "outputs": [
    {
     "data": {
      "text/plain": [
       "2011-01-06 21:00:00+00:00    100000.000000\n",
       "2011-01-07 21:00:00+00:00     99948.430105\n",
       "2011-01-10 21:00:00+00:00     99542.020105\n",
       "2011-01-11 21:00:00+00:00     99400.660105\n",
       "2011-01-12 21:00:00+00:00    100425.520105\n",
       "                                 ...      \n",
       "2012-12-31 21:00:00+00:00     98660.578660\n",
       "2013-01-02 21:00:00+00:00     98660.578660\n",
       "2013-01-03 21:00:00+00:00     98660.578660\n",
       "2013-01-04 21:00:00+00:00     98660.578660\n",
       "2013-01-07 21:00:00+00:00     98660.578660\n",
       "Name: portfolio_value, Length: 503, dtype: float64"
      ]
     },
     "execution_count": 375,
     "metadata": {},
     "output_type": "execute_result"
    }
   ],
   "source": [
    "sl_result.portfolio_value"
   ]
  },
  {
   "cell_type": "code",
   "execution_count": 350,
   "metadata": {},
   "outputs": [
    {
     "data": {
      "text/plain": [
       "DatetimeIndex(['2011-01-06 21:00:00+00:00', '2011-05-02 20:00:00+00:00',\n",
       "               '2011-05-03 20:00:00+00:00', '2011-05-04 20:00:00+00:00',\n",
       "               '2011-05-05 20:00:00+00:00', '2011-05-06 20:00:00+00:00',\n",
       "               '2011-05-09 20:00:00+00:00', '2011-05-10 20:00:00+00:00',\n",
       "               '2011-05-11 20:00:00+00:00', '2011-05-12 20:00:00+00:00',\n",
       "               ...\n",
       "               '2012-12-21 21:00:00+00:00', '2012-12-24 18:00:00+00:00',\n",
       "               '2012-12-26 21:00:00+00:00', '2012-12-27 21:00:00+00:00',\n",
       "               '2012-12-28 21:00:00+00:00', '2012-12-31 21:00:00+00:00',\n",
       "               '2013-01-02 21:00:00+00:00', '2013-01-03 21:00:00+00:00',\n",
       "               '2013-01-04 21:00:00+00:00', '2013-01-07 21:00:00+00:00'],\n",
       "              dtype='datetime64[ns, UTC]', length=425, freq=None)"
      ]
     },
     "execution_count": 350,
     "metadata": {},
     "output_type": "execute_result"
    }
   ],
   "source": [
    "sl_result.loc[sl_result.ORDERED==False].index"
   ]
  },
  {
   "cell_type": "code",
   "execution_count": 353,
   "metadata": {},
   "outputs": [
    {
     "data": {
      "text/plain": [
       "period_open                                        2011-05-02 13:31:00+00:00\n",
       "period_close                                       2011-05-02 20:00:00+00:00\n",
       "ending_value                                                             0.0\n",
       "starting_cash                                                      296.29758\n",
       "ending_cash                                                     120141.94826\n",
       "portfolio_value                                                 120141.94826\n",
       "returns                                                             0.012142\n",
       "longs_count                                                                0\n",
       "shorts_count                                                               0\n",
       "long_value                                                               0.0\n",
       "short_value                                                              0.0\n",
       "pnl                                                               1441.21068\n",
       "capital_used                                                    119845.65068\n",
       "orders                     [{'id': 'f96cbb8d40f348a2a0f6f63746722778', 'd...\n",
       "long_exposure                                                            0.0\n",
       "transactions               [{'amount': -1036, 'dt': 2011-05-02 20:00:00+0...\n",
       "positions                                                                 []\n",
       "short_exposure                                                           0.0\n",
       "starting_exposure                                                  118404.44\n",
       "ending_exposure                                                          0.0\n",
       "gross_leverage                                                           0.0\n",
       "starting_value                                                     118404.44\n",
       "net_leverage                                                             0.0\n",
       "ORDERED                                                                False\n",
       "alpha                                                                   None\n",
       "beta                                                                    None\n",
       "sharpe                                                              2.121228\n",
       "sortino                                                             3.500578\n",
       "max_drawdown                                                       -0.106264\n",
       "max_leverage                                                        0.997504\n",
       "excess_return                                                            0.0\n",
       "treasury_period_return                                                   0.0\n",
       "trading_days                                                              80\n",
       "algorithm_period_return                                             0.201419\n",
       "period_label                                                         2011-05\n",
       "algo_volatility                                                     0.292534\n",
       "benchmark_period_return                                                  0.0\n",
       "benchmark_volatility                                                     0.0\n",
       "Name: 2011-05-02 20:00:00+00:00, dtype: object"
      ]
     },
     "execution_count": 353,
     "metadata": {},
     "output_type": "execute_result"
    }
   ],
   "source": [
    "sl_result.loc['2011-05-02 20:00:00+00:00']"
   ]
  },
  {
   "cell_type": "code",
   "execution_count": 263,
   "metadata": {},
   "outputs": [
    {
     "data": {
      "text/plain": [
       "0.014018886028945665"
      ]
     },
     "execution_count": 263,
     "metadata": {},
     "output_type": "execute_result"
    }
   ],
   "source": [
    "idiosyncratic_var_vector.loc[high_var_equities_tickers[2]].values[0]"
   ]
  },
  {
   "cell_type": "code",
   "execution_count": 290,
   "metadata": {},
   "outputs": [
    {
     "data": {
      "text/plain": [
       "0.007999999999999998"
      ]
     },
     "execution_count": 290,
     "metadata": {},
     "output_type": "execute_result"
    }
   ],
   "source": [
    "abs(np.mean([-0.03, -0.05, 0.05, 0.01, -.02]))"
   ]
  },
  {
   "cell_type": "code",
   "execution_count": 288,
   "metadata": {},
   "outputs": [
    {
     "data": {
      "text/plain": [
       "Equity(2143 [OXY])"
      ]
     },
     "execution_count": 288,
     "metadata": {},
     "output_type": "execute_result"
    }
   ],
   "source": [
    "high_var_equities_tickers[2]"
   ]
  },
  {
   "cell_type": "code",
   "execution_count": 298,
   "metadata": {},
   "outputs": [
    {
     "data": {
      "text/plain": [
       "2011-01-06 21:00:00+00:00    100000.00000\n",
       "2011-01-07 21:00:00+00:00     99949.13758\n",
       "2011-01-10 21:00:00+00:00     99534.73758\n",
       "2011-01-11 21:00:00+00:00    100705.41758\n",
       "2011-01-12 21:00:00+00:00    101306.29758\n",
       "                                 ...     \n",
       "2012-12-31 21:00:00+00:00     79664.25758\n",
       "2013-01-02 21:00:00+00:00     81270.05758\n",
       "2013-01-03 21:00:00+00:00     81591.21758\n",
       "2013-01-04 21:00:00+00:00     83010.53758\n",
       "2013-01-07 21:00:00+00:00     83051.97758\n",
       "Name: portfolio_value, Length: 503, dtype: float64"
      ]
     },
     "execution_count": 298,
     "metadata": {},
     "output_type": "execute_result"
    }
   ],
   "source": [
    "bnh_high[selected_stock].portfolio_value."
   ]
  },
  {
   "cell_type": "code",
   "execution_count": 341,
   "metadata": {},
   "outputs": [
    {
     "data": {
      "text/plain": [
       "2011-01-06 21:00:00+00:00    100000.000000\n",
       "2011-01-07 21:00:00+00:00     99946.443875\n",
       "2011-01-10 21:00:00+00:00    100388.143875\n",
       "2011-01-11 21:00:00+00:00    100766.743875\n",
       "2011-01-12 21:00:00+00:00    101870.993875\n",
       "                                 ...      \n",
       "2012-12-31 21:00:00+00:00     85559.643875\n",
       "2013-01-02 21:00:00+00:00     89598.043875\n",
       "2013-01-03 21:00:00+00:00     88872.393875\n",
       "2013-01-04 21:00:00+00:00     91333.293875\n",
       "2013-01-07 21:00:00+00:00     87515.743875\n",
       "Name: portfolio_value, Length: 503, dtype: float64"
      ]
     },
     "execution_count": 341,
     "metadata": {},
     "output_type": "execute_result"
    }
   ],
   "source": [
    "sl_result.portfolio_value"
   ]
  },
  {
   "cell_type": "code",
   "execution_count": 365,
   "metadata": {},
   "outputs": [],
   "source": [
    "selected_stock = high_var_equities_tickers[2]\n",
    "\n",
    "def initialize_sl(context):\n",
    "    context.i = 0\n",
    "    context.sym = symbol(extract_ticker(selected_stock))\n",
    "    context.hold = False\n",
    "\n",
    "def handle_data_sl(context, data):\n",
    "    \n",
    "    context.i += 1\n",
    "    \n",
    "    record(ORDERED=context.hold)\n",
    "    if context.i == 1:\n",
    "        order_target_percent(context.sym, 1.0)\n",
    "        context.hold = True\n",
    "        return\n",
    "    elif context.i < 5:\n",
    "        return\n",
    "\n",
    "    ma5 = data.history(context.sym, 'price', 5, '1d').pct_change().mean()\n",
    "    st5 = data.history(context.sym, 'price', 5, '1d').pct_change().std()\n",
    "    \n",
    "    if context.hold == True and abs(ma5) > 0.03 and st5 > market_risk + idiosyncratic_var_vector.loc[selected_stock].values[0]:\n",
    "        order_target_percent(context.sym, 0.0)\n",
    "        context.hold = False\n",
    "    \n",
    "\n",
    "sl_result = run_algorithm(start=start_date,\n",
    "                          end=end_date,\n",
    "                          initialize=initialize_sl,\n",
    "                          handle_data=handle_data_sl,\n",
    "                          capital_base=100000,\n",
    "                          benchmark_returns=benchmark_returns,\n",
    "                          bundle='quandl',\n",
    "                          data_frequency='daily'\n",
    "                         )"
   ]
  },
  {
   "cell_type": "code",
   "execution_count": 366,
   "metadata": {},
   "outputs": [
    {
     "data": {
      "text/plain": [
       "2011-01-06 21:00:00+00:00    100000.00000\n",
       "2011-01-07 21:00:00+00:00     99949.13758\n",
       "2011-01-10 21:00:00+00:00     99534.73758\n",
       "2011-01-11 21:00:00+00:00    100705.41758\n",
       "2011-01-12 21:00:00+00:00    101306.29758\n",
       "                                 ...     \n",
       "2012-12-31 21:00:00+00:00    120141.94826\n",
       "2013-01-02 21:00:00+00:00    120141.94826\n",
       "2013-01-03 21:00:00+00:00    120141.94826\n",
       "2013-01-04 21:00:00+00:00    120141.94826\n",
       "2013-01-07 21:00:00+00:00    120141.94826\n",
       "Name: portfolio_value, Length: 503, dtype: float64"
      ]
     },
     "execution_count": 366,
     "metadata": {},
     "output_type": "execute_result"
    }
   ],
   "source": [
    "sl_result.portfolio_value"
   ]
  },
  {
   "cell_type": "code",
   "execution_count": 420,
   "metadata": {},
   "outputs": [
    {
     "name": "stdout",
     "output_type": "stream",
     "text": [
      "['DG', 'HST', 'OXY', 'TMO', 'FITB']\n"
     ]
    }
   ],
   "source": [
    "print(list(map(extract_ticker, high_var_equities_tickers[:5])))"
   ]
  },
  {
   "cell_type": "code",
   "execution_count": 421,
   "metadata": {},
   "outputs": [
    {
     "name": "stdout",
     "output_type": "stream",
     "text": [
      "['AXP', 'MS', 'DAL', 'ACE', 'SNDK']\n"
     ]
    }
   ],
   "source": [
    "print(list(map(extract_ticker, mid_var_equities_tickers[:5])))"
   ]
  },
  {
   "cell_type": "code",
   "execution_count": 422,
   "metadata": {},
   "outputs": [
    {
     "name": "stdout",
     "output_type": "stream",
     "text": [
      "['QCOR', 'GMCR', 'FSLR', 'NFLX', 'TMUS']\n"
     ]
    }
   ],
   "source": [
    "print(list(map(extract_ticker, low_var_equities_tickers[:5])))"
   ]
  },
  {
   "cell_type": "code",
   "execution_count": 441,
   "metadata": {},
   "outputs": [
    {
     "data": {
      "text/plain": [
       "2011-01-06 21:00:00+00:00          NaN\n",
       "2011-01-07 21:00:00+00:00   -11.224972\n",
       "2011-01-10 21:00:00+00:00   -10.951720\n",
       "2011-01-11 21:00:00+00:00   -13.171922\n",
       "2011-01-12 21:00:00+00:00     2.482855\n",
       "                               ...    \n",
       "2012-12-31 21:00:00+00:00     0.361706\n",
       "2013-01-02 21:00:00+00:00     0.395469\n",
       "2013-01-03 21:00:00+00:00     0.389509\n",
       "2013-01-04 21:00:00+00:00     0.404880\n",
       "2013-01-07 21:00:00+00:00     0.418445\n",
       "Name: sharpe, Length: 503, dtype: float64"
      ]
     },
     "execution_count": 441,
     "metadata": {},
     "output_type": "execute_result"
    }
   ],
   "source": [
    "bnh_high[high_var_equities_tickers[3]].sharpe"
   ]
  },
  {
   "cell_type": "markdown",
   "metadata": {},
   "source": [
    "# Results"
   ]
  },
  {
   "cell_type": "code",
   "execution_count": 430,
   "metadata": {},
   "outputs": [
    {
     "data": {
      "text/plain": [
       "-0.2707056697463051"
      ]
     },
     "execution_count": 430,
     "metadata": {},
     "output_type": "execute_result"
    }
   ],
   "source": [
    "np.mean([ma_high[stock].max_drawdown.iloc[-1] for stock in high_var_equities_tickers])"
   ]
  },
  {
   "cell_type": "code",
   "execution_count": 431,
   "metadata": {},
   "outputs": [
    {
     "data": {
      "text/plain": [
       "-0.3432296489262172"
      ]
     },
     "execution_count": 431,
     "metadata": {},
     "output_type": "execute_result"
    }
   ],
   "source": [
    "np.mean([bnh_high[stock].max_drawdown.iloc[-1] for stock in high_var_equities_tickers])"
   ]
  },
  {
   "cell_type": "code",
   "execution_count": 433,
   "metadata": {},
   "outputs": [
    {
     "data": {
      "text/plain": [
       "-0.2545149186229568"
      ]
     },
     "execution_count": 433,
     "metadata": {},
     "output_type": "execute_result"
    }
   ],
   "source": [
    "np.mean([sl_tp_high_10[stock].max_drawdown.iloc[-1] for stock in list(sl_tp_high_10.keys())])"
   ]
  },
  {
   "cell_type": "code",
   "execution_count": 442,
   "metadata": {},
   "outputs": [
    {
     "data": {
      "text/plain": [
       "121052.283082465"
      ]
     },
     "execution_count": 442,
     "metadata": {},
     "output_type": "execute_result"
    }
   ],
   "source": [
    "np.mean([bnh_high[stock].portfolio_value.iloc[-1] for stock in high_var_equities_tickers])"
   ]
  },
  {
   "cell_type": "code",
   "execution_count": 444,
   "metadata": {},
   "outputs": [
    {
     "data": {
      "text/plain": [
       "101566.89459850999"
      ]
     },
     "execution_count": 444,
     "metadata": {},
     "output_type": "execute_result"
    }
   ],
   "source": [
    "np.mean([ma_high[stock].portfolio_value.iloc[-1] for stock in high_var_equities_tickers])"
   ]
  },
  {
   "cell_type": "code",
   "execution_count": null,
   "metadata": {},
   "outputs": [],
   "source": []
  },
  {
   "cell_type": "code",
   "execution_count": 437,
   "metadata": {},
   "outputs": [
    {
     "data": {
      "text/plain": [
       "0.06426282298609001"
      ]
     },
     "execution_count": 437,
     "metadata": {},
     "output_type": "execute_result"
    }
   ],
   "source": [
    "np.mean([sl_tp_high_10[stock].sharpe[-1] for stock in list(sl_tp_high_10.keys())])"
   ]
  },
  {
   "cell_type": "code",
   "execution_count": 438,
   "metadata": {},
   "outputs": [
    {
     "data": {
      "text/plain": [
       "0.43513634960734643"
      ]
     },
     "execution_count": 438,
     "metadata": {},
     "output_type": "execute_result"
    }
   ],
   "source": [
    "np.mean([bnh_high[stock].sharpe.iloc[-1] for stock in high_var_equities_tickers])"
   ]
  },
  {
   "cell_type": "code",
   "execution_count": 439,
   "metadata": {},
   "outputs": [
    {
     "data": {
      "text/plain": [
       "0.09691460835958093"
      ]
     },
     "execution_count": 439,
     "metadata": {},
     "output_type": "execute_result"
    }
   ],
   "source": [
    "np.mean([ma_high[stock].sharpe.iloc[-1] for stock in high_var_equities_tickers])"
   ]
  },
  {
   "cell_type": "markdown",
   "metadata": {},
   "source": [
    "## Mid"
   ]
  },
  {
   "cell_type": "code",
   "execution_count": 445,
   "metadata": {},
   "outputs": [
    {
     "data": {
      "text/plain": [
       "116584.97531780999"
      ]
     },
     "execution_count": 445,
     "metadata": {},
     "output_type": "execute_result"
    }
   ],
   "source": [
    "np.mean([bnh_mid[stock].portfolio_value.iloc[-1] for stock in mid_var_equities_tickers])"
   ]
  },
  {
   "cell_type": "code",
   "execution_count": 446,
   "metadata": {},
   "outputs": [
    {
     "data": {
      "text/plain": [
       "99030.16738984"
      ]
     },
     "execution_count": 446,
     "metadata": {},
     "output_type": "execute_result"
    }
   ],
   "source": [
    "np.mean([ma_mid[stock].portfolio_value.iloc[-1] for stock in mid_var_equities_tickers])"
   ]
  },
  {
   "cell_type": "code",
   "execution_count": 448,
   "metadata": {},
   "outputs": [
    {
     "data": {
      "text/plain": [
       "102432.47151367173"
      ]
     },
     "execution_count": 448,
     "metadata": {},
     "output_type": "execute_result"
    }
   ],
   "source": [
    "np.mean([sl_tp_mid_10[stock].portfolio_value.iloc[-1] for stock in list(sl_tp_mid_10.keys())])"
   ]
  },
  {
   "cell_type": "code",
   "execution_count": 450,
   "metadata": {},
   "outputs": [
    {
     "data": {
      "text/plain": [
       "-0.3368977255629019"
      ]
     },
     "execution_count": 450,
     "metadata": {},
     "output_type": "execute_result"
    }
   ],
   "source": [
    "np.mean([bnh_mid[stock].max_drawdown.iloc[-1] for stock in mid_var_equities_tickers])"
   ]
  },
  {
   "cell_type": "code",
   "execution_count": 451,
   "metadata": {},
   "outputs": [
    {
     "data": {
      "text/plain": [
       "-0.27431129516375075"
      ]
     },
     "execution_count": 451,
     "metadata": {},
     "output_type": "execute_result"
    }
   ],
   "source": [
    "np.mean([ma_mid[stock].max_drawdown.iloc[-1] for stock in mid_var_equities_tickers])"
   ]
  },
  {
   "cell_type": "code",
   "execution_count": 452,
   "metadata": {},
   "outputs": [
    {
     "data": {
      "text/plain": [
       "-0.24674383151612503"
      ]
     },
     "execution_count": 452,
     "metadata": {},
     "output_type": "execute_result"
    }
   ],
   "source": [
    "np.mean([sl_tp_mid_10[stock].max_drawdown.iloc[-1] for stock in list(sl_tp_mid_10.keys())])"
   ]
  },
  {
   "cell_type": "markdown",
   "metadata": {},
   "source": [
    "## Low"
   ]
  },
  {
   "cell_type": "code",
   "execution_count": 453,
   "metadata": {},
   "outputs": [
    {
     "data": {
      "text/plain": [
       "122566.64990998"
      ]
     },
     "execution_count": 453,
     "metadata": {},
     "output_type": "execute_result"
    }
   ],
   "source": [
    "np.mean([bnh_low[stock].portfolio_value.iloc[-1] for stock in low_var_equities_tickers])"
   ]
  },
  {
   "cell_type": "code",
   "execution_count": 457,
   "metadata": {},
   "outputs": [
    {
     "data": {
      "text/plain": [
       "102133.81963112499"
      ]
     },
     "execution_count": 457,
     "metadata": {},
     "output_type": "execute_result"
    }
   ],
   "source": [
    "np.mean([ma_low[stock].portfolio_value.iloc[-1] for stock in low_var_equities_tickers])"
   ]
  },
  {
   "cell_type": "code",
   "execution_count": 458,
   "metadata": {},
   "outputs": [
    {
     "data": {
      "text/plain": [
       "109101.50334042187"
      ]
     },
     "execution_count": 458,
     "metadata": {},
     "output_type": "execute_result"
    }
   ],
   "source": [
    "np.mean([sl_tp_low_10[stock].portfolio_value.iloc[-1] for stock in list(sl_tp_low_10.keys())])"
   ]
  },
  {
   "cell_type": "code",
   "execution_count": 459,
   "metadata": {},
   "outputs": [
    {
     "data": {
      "text/plain": [
       "-0.3992160707016121"
      ]
     },
     "execution_count": 459,
     "metadata": {},
     "output_type": "execute_result"
    }
   ],
   "source": [
    "np.mean([bnh_low[stock].max_drawdown.iloc[-1] for stock in low_var_equities_tickers])"
   ]
  },
  {
   "cell_type": "code",
   "execution_count": 460,
   "metadata": {},
   "outputs": [
    {
     "data": {
      "text/plain": [
       "-0.3037157166451008"
      ]
     },
     "execution_count": 460,
     "metadata": {},
     "output_type": "execute_result"
    }
   ],
   "source": [
    "np.mean([ma_low[stock].max_drawdown.iloc[-1] for stock in low_var_equities_tickers])"
   ]
  },
  {
   "cell_type": "code",
   "execution_count": 461,
   "metadata": {},
   "outputs": [
    {
     "data": {
      "text/plain": [
       "-0.2061108779851276"
      ]
     },
     "execution_count": 461,
     "metadata": {},
     "output_type": "execute_result"
    }
   ],
   "source": [
    "np.mean([sl_tp_low_10[stock].max_drawdown.iloc[-1] for stock in list(sl_tp_low_10.keys())])"
   ]
  },
  {
   "cell_type": "code",
   "execution_count": 463,
   "metadata": {},
   "outputs": [],
   "source": [
    "oxy = high_var_equities_tickers[2]"
   ]
  },
  {
   "cell_type": "code",
   "execution_count": 465,
   "metadata": {},
   "outputs": [
    {
     "data": {
      "text/plain": [
       "Index(['period_open', 'period_close', 'long_exposure', 'short_exposure',\n",
       "       'positions', 'net_leverage', 'ending_cash', 'starting_exposure',\n",
       "       'capital_used', 'ending_value', 'long_value', 'gross_leverage',\n",
       "       'starting_cash', 'starting_value', 'portfolio_value', 'longs_count',\n",
       "       'returns', 'pnl', 'orders', 'transactions', 'short_value',\n",
       "       'shorts_count', 'ending_exposure', 'max_leverage',\n",
       "       'treasury_period_return', 'alpha', 'beta', 'sharpe', 'excess_return',\n",
       "       'max_drawdown', 'trading_days', 'algo_volatility',\n",
       "       'benchmark_period_return', 'benchmark_volatility', 'period_label',\n",
       "       'algorithm_period_return', 'sortino', 'PRICE', 'ma5', 'ma20', 'buy',\n",
       "       'sell'],\n",
       "      dtype='object')"
      ]
     },
     "execution_count": 465,
     "metadata": {},
     "output_type": "execute_result"
    }
   ],
   "source": [
    "ma_high[oxy].columns"
   ]
  },
  {
   "cell_type": "code",
   "execution_count": 475,
   "metadata": {},
   "outputs": [],
   "source": [
    "stop = sl_tp_high_10[oxy].loc[sl_tp_high_10[oxy].ORDERED==False].index[1]"
   ]
  },
  {
   "cell_type": "code",
   "execution_count": 484,
   "metadata": {},
   "outputs": [
    {
     "data": {
      "image/png": "[encoded data removed]",
      "text/plain": [
       "<Figure size 1152x648 with 3 Axes>"
      ]
     },
     "metadata": {
      "needs_background": "light"
     },
     "output_type": "display_data"
    }
   ],
   "source": [
    "fig, ax = plt.subplots(3, 1, sharex=True, figsize=[16, 9])\n",
    "\n",
    "# portfolio value\n",
    "bnh_high[oxy].portfolio_value.plot(ax=ax[0])\n",
    "ax[0].set_ylabel('BnH portfolio value in $')\n",
    "\n",
    "\n",
    "# portfolio value\n",
    "ma_high[oxy].portfolio_value.plot(ax=ax[1])\n",
    "ax[1].set_ylabel('GC portfolio value in $')\n",
    "buys = ma_high[oxy].loc[ma_high[oxy].buy==True]\n",
    "sells = ma_high[oxy].loc[ma_high[oxy].sell==True]\n",
    "ax[1].plot(buys.index, ma_high[oxy].portfolio_value.loc[buys.index], '^', markersize=10, color='g', label='buy')\n",
    "ax[1].plot(sells.index, ma_high[oxy].portfolio_value.loc[sells.index], 'v', markersize=10, color='r', label='sell')\n",
    "ax[1].legend()\n",
    "\n",
    "# portfolio value\n",
    "sl_tp_high_10[oxy].portfolio_value.plot(ax=ax[2])\n",
    "ax[2].set_ylabel('SL-TP portfolio value in $')\n",
    "ax[2].plot(stop, sl_tp_high_10[oxy].portfolio_value.loc[stop], 'v', markersize=10, color='r', label='clear')\n",
    "\n",
    "\"\"\"\n",
    "# asset\n",
    "buy_and_hold_results.price.plot(ax=ax[1])\n",
    "ax[1].set_ylabel('price in $')\n",
    "\n",
    "# mark transactions\n",
    "perf_trans = buy_and_hold_results.loc[[t != [] for t in buy_and_hold_results.transactions]]\n",
    "buys = perf_trans.loc[[t[0]['amount'] > 0 for t in perf_trans.transactions]]\n",
    "sells = perf_trans.loc[[t[0]['amount'] < 0 for t in perf_trans.transactions]]\n",
    "ax[1].plot(buys.index, buy_and_hold_results.price.loc[buys.index], '^', markersize=10, color='g', label='buy')\n",
    "ax[1].plot(sells.index, buy_and_hold_results.price.loc[sells.index], 'v', markersize=10, color='r', label='sell')\n",
    "\n",
    "# daily returns\n",
    "buy_and_hold_results.returns.plot(ax=ax[2])\n",
    "ax[2].set_ylabel('daily returns')\n",
    "\"\"\"\n",
    "fig.suptitle('Portfolio Strategy - OXY', fontsize=16)\n",
    "plt.legend()\n",
    "plt.show()\n",
    "\n",
    "#print('Final portfolio value (including cash): {}$'.format(np.round(buy_and_hold_results.portfolio_value[-1], 2)))\n"
   ]
  }
 ],
 "metadata": {
  "kernelspec": {
   "display_name": "seungju_env",
   "language": "python",
   "name": "seungju_env"
  },
  "language_info": {
   "codemirror_mode": {
    "name": "ipython",
    "version": 3
   },
   "file_extension": ".py",
   "mimetype": "text/x-python",
   "name": "python",
   "nbconvert_exporter": "python",
   "pygments_lexer": "ipython3",
   "version": "3.7.11"
  }
 },
 "nbformat": 4,
 "nbformat_minor": 2
}
